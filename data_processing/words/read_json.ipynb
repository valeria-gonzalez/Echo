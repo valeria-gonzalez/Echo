{
 "cells": [
  {
   "cell_type": "markdown",
   "metadata": {},
   "source": [
    "# Word processing"
   ]
  },
  {
   "cell_type": "code",
   "execution_count": 1,
   "metadata": {},
   "outputs": [],
   "source": [
    "import json"
   ]
  },
  {
   "cell_type": "code",
   "execution_count": 2,
   "metadata": {},
   "outputs": [],
   "source": [
    "filename = 'example.jsonl'"
   ]
  },
  {
   "cell_type": "code",
   "execution_count": 3,
   "metadata": {},
   "outputs": [
    {
     "name": "stdout",
     "output_type": "stream",
     "text": [
      "{\n",
      "  \"id\": 1,\n",
      "  \"name\": \"Alice\",\n",
      "  \"age\": 30,\n",
      "  \"status\": \"active\"\n",
      "}\n",
      "{\n",
      "  \"id\": 2,\n",
      "  \"name\": \"Bob\",\n",
      "  \"age\": 25,\n",
      "  \"status\": \"inactive\"\n",
      "}\n",
      "{\n",
      "  \"id\": 3,\n",
      "  \"name\": \"Charlie\",\n",
      "  \"age\": 35,\n",
      "  \"status\": \"active\"\n",
      "}\n"
     ]
    }
   ],
   "source": [
    "with open(filename, \"r\", encoding=\"utf-8\") as f:\n",
    "    for i, line in enumerate(f):\n",
    "        if i >= 3:\n",
    "            break\n",
    "        if line.strip():\n",
    "            obj = json.loads(line)\n",
    "            print(json.dumps(obj, indent=2))\n",
    "        "
   ]
  }
 ],
 "metadata": {
  "kernelspec": {
   "display_name": "env",
   "language": "python",
   "name": "python3"
  },
  "language_info": {
   "codemirror_mode": {
    "name": "ipython",
    "version": 3
   },
   "file_extension": ".py",
   "mimetype": "text/x-python",
   "name": "python",
   "nbconvert_exporter": "python",
   "pygments_lexer": "ipython3",
   "version": "3.9.6"
  }
 },
 "nbformat": 4,
 "nbformat_minor": 2
}
