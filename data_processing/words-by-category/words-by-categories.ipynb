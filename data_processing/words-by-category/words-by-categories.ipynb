{
 "cells": [
  {
   "cell_type": "code",
   "execution_count": 9,
   "id": "ff2b5fb9",
   "metadata": {},
   "outputs": [],
   "source": [
    "import json"
   ]
  },
  {
   "cell_type": "code",
   "execution_count": null,
   "id": "6b2c4790",
   "metadata": {},
   "outputs": [],
   "source": [
    "category_keywords = {\n",
    "        \"daily life\": [\"home\", \"food\", \"eat\", \"shop\", \"family\", \"house\", \n",
    "        \"daily\",\"routine\", \"pet\"],\n",
    "        \"work\": [\"job\", \"employee\", \"office\", \"business\", \"company\", \"salary\",\n",
    "        \"work\"],\n",
    "        \"social life\": [\"friend\", \"party\", \"relationship\", \"social\", \"talk\", \n",
    "        \"meet\", \"chat\"],\n",
    "        \"education\": [\"school\", \"university\", \"study\", \"learn\", \"education\", \n",
    "        \"class\", \"teacher\"],\n",
    "        \"travel\": [\"travel\", \"trip\", \"flight\", \"airport\", \"hotel\", \"tourism\",\n",
    "        \"vacation\"],\n",
    "        \"health\": [\"hospital\", \"doctor\", \"medicine\", \"disease\", \"clinic\"],\n",
    "}"
   ]
  },
  {
   "cell_type": "code",
   "execution_count": 11,
   "id": "e5520e5a",
   "metadata": {},
   "outputs": [],
   "source": [
    "def classify_words(jsonl_data, category_keywords): \n",
    "    definitions_texts = []\n",
    "    \n",
    "    definitions = jsonl_data.get(\"definitions\", [])\n",
    "    for entry in definitions:\n",
    "        for definition in entry.get(\"definitions\", []):\n",
    "            definitions_texts.append(definition.lower())\n",
    "            \n",
    "    for category, keywords in category_keywords.items():\n",
    "        if any(keyword in definition for definition in definitions_texts\n",
    "            for keyword in keywords):\n",
    "            return category\n",
    "        \n",
    "    return \"other\"\n"
   ]
  },
  {
   "cell_type": "code",
   "execution_count": 12,
   "id": "87712099",
   "metadata": {},
   "outputs": [
    {
     "name": "stdout",
     "output_type": "stream",
     "text": [
      "dictionary: work\n",
      "free: other\n",
      "thesaurus: other\n",
      "encyclopedia: work\n",
      "portmanteau: daily life\n",
      "cat: daily life\n",
      "word: other\n",
      "book: work\n",
      "pound: daily life\n",
      "GDP: other\n",
      "pond: other\n",
      "nonsense: other\n",
      "pie: other\n",
      "crow: daily life\n",
      "raven: daily life\n",
      "elephant: daily life\n",
      "brown: daily life\n",
      "December: other\n",
      "month: other\n",
      "January: other\n",
      "February: other\n",
      "march: daily life\n",
      "April: other\n",
      "may: other\n",
      "June: other\n",
      "July: other\n",
      "august: other\n",
      "September: other\n",
      "October: other\n",
      "November: other\n",
      "multiculturalism: social life\n",
      "day: work\n",
      "Monday: other\n",
      "Tuesday: other\n",
      "Wednesday: other\n",
      "Thursday: other\n",
      "Friday: work\n",
      "Saturday: other\n",
      "Sunday: travel\n",
      "lexicography: social life\n",
      "antonym: other\n",
      "connotation: other\n",
      "denotation: other\n",
      "synonym: other\n",
      "dialect: daily life\n",
      "hyponym: education\n",
      "semantics: daily life\n",
      "false friend: social life\n",
      "noun: other\n",
      "hour: work\n"
     ]
    }
   ],
   "source": [
    "classified_words = {}\n",
    "\n",
    "with open(\"datasets/words-de02e1507605431abd5d829d7e868af5.jsonl\", \"r\", \n",
    "        encoding=\"utf-8\") as file:\n",
    "    for line in file:\n",
    "        word_entry = json.loads(line)\n",
    "        for word, word_data in word_entry.items():\n",
    "            category = classify_words(word_data, category_keywords)\n",
    "            classified_words[word] = category\n",
    "            \n",
    "for word, category in classified_words.items():\n",
    "    print(f\"{word}: {category}\")\n"
   ]
  }
 ],
 "metadata": {
  "kernelspec": {
   "display_name": ".venv",
   "language": "python",
   "name": "python3"
  },
  "language_info": {
   "codemirror_mode": {
    "name": "ipython",
    "version": 3
   },
   "file_extension": ".py",
   "mimetype": "text/x-python",
   "name": "python",
   "nbconvert_exporter": "python",
   "pygments_lexer": "ipython3",
   "version": "3.12.7"
  }
 },
 "nbformat": 4,
 "nbformat_minor": 5
}
