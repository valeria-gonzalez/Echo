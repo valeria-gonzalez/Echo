{
 "cells": [
  {
   "cell_type": "code",
   "execution_count": 2,
   "id": "ff2b5fb9",
   "metadata": {},
   "outputs": [],
   "source": [
    "import json\n",
    "from transformers import pipeline"
   ]
  },
  {
   "cell_type": "code",
   "execution_count": 13,
   "id": "6b2c4790",
   "metadata": {},
   "outputs": [],
   "source": [
    "category_labels = {\n",
    "    \"daily life\": \"Situations related to everyday routines like eating, sleeping, shopping, hygiene, and home activities.\",\n",
    "    \"work\": \"Concepts involving employment, jobs, office tasks, careers, or professional environments.\",\n",
    "    \"social life\": \"Scenarios involving friends, communication, entertainment, community, and social interaction.\",\n",
    "    \"education\": \"Topics involving learning, studying, schools, teaching, or acquiring knowledge.\",\n",
    "    \"travel\": \"Experiences involving transportation, visiting places, vacations, tourism, and moving between locations.\",\n",
    "    \"health\": \"Concepts related to physical or mental well-being, medicine, fitness, nutrition, and medical care.\"\n",
    "}"
   ]
  },
  {
   "cell_type": "code",
   "execution_count": 14,
   "id": "aa0ef89a",
   "metadata": {},
   "outputs": [
    {
     "name": "stderr",
     "output_type": "stream",
     "text": [
      "Device set to use cpu\n"
     ]
    },
    {
     "name": "stdout",
     "output_type": "stream",
     "text": [
      "Model loaded.\n"
     ]
    }
   ],
   "source": [
    "classifier = pipeline(\"zero-shot-classification\", model=\"facebook/bart-large-mnli\")\n",
    "print(\"Model loaded.\")"
   ]
  },
  {
   "cell_type": "code",
   "execution_count": null,
   "id": "167962fa",
   "metadata": {},
   "outputs": [],
   "source": [
    "def classify_words(text_data: str, category_labels: dict, classifier):\n",
    "    categories = {}\n",
    "    text = text_data.lower()\n",
    "    label_descriptions = list(category_labels.values())\n",
    "\n",
    "    result = classifier(text, label_descriptions)\n",
    "\n",
    "    description_to_category = {v: k for k, v in category_labels.items()}\n",
    "\n",
    "    for label, score in zip(result[\"labels\"], result[\"scores\"]):\n",
    "        category = description_to_category[label]\n",
    "        categories[category] = score\n",
    "    return categories"
   ]
  },
  {
   "cell_type": "code",
   "execution_count": null,
   "id": "87712099",
   "metadata": {},
   "outputs": [],
   "source": [
    "def definitions_to_string(jsonl_data:str, classifier, model) -> None:\n",
    "    # A dictionary to store the classified words\n",
    "    word_categories = {}\n",
    "\n",
    "    text = \"\"\n",
    "    with open(jsonl_data, \"r\",\n",
    "        encoding=\"utf-8\") as file:\n",
    "        for line in file:\n",
    "            word_entry = json.loads(line)\n",
    "            for word, word_data in word_entry.items():\n",
    "                all_texts = []\n",
    "                text = \" \"\n",
    "                # Extract the word and the value of the \"definitions\" key\n",
    "                definitions = word_data.get(\"definitions\", [])\n",
    "\n",
    "                # Extract all the text values from the \"definitions\" key\n",
    "                definition_texts = definitions[0].get(\"definitions\", [])\n",
    "\n",
    "                # Join both lists into a one list\n",
    "                all_texts.extend(definition_texts)\n",
    "\n",
    "                # Join all the texts into a single string\n",
    "                text = \" \".join(all_texts)\n",
    "                # Calling the classify_words function to classify the word\n",
    "                categories = classifier(text, category_labels, model)\n",
    "                word_categories[word] = categories\n",
    "\n",
    "\n",
    "        for word, categories in word_categories.items():\n",
    "            print(f\"{word}:\")\n",
    "            for category, score in categories.items():\n",
    "                print(f\"{word}: {category} ({score:.2%})\")"
   ]
  },
  {
   "cell_type": "code",
   "execution_count": null,
   "id": "f3b2c331",
   "metadata": {},
   "outputs": [],
   "source": [
    "jsonl_data = \"words-de02e1507605431abd5d829d7e868af5.jsonl\"\n",
    "definitions_to_string(jsonl_data, classify_words, classifier)"
   ]
  }
 ],
 "metadata": {
  "kernelspec": {
   "display_name": "env",
   "language": "python",
   "name": "python3"
  },
  "language_info": {
   "codemirror_mode": {
    "name": "ipython",
    "version": 3
   },
   "file_extension": ".py",
   "mimetype": "text/x-python",
   "name": "python",
   "nbconvert_exporter": "python",
   "pygments_lexer": "ipython3",
   "version": "3.9.6"
  }
 },
 "nbformat": 4,
 "nbformat_minor": 5
}
