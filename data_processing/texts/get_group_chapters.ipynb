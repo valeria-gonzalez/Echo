{
 "cells": [
  {
   "cell_type": "markdown",
   "id": "49153db2",
   "metadata": {},
   "source": [
    "##### \"Os\" allows to go through all the system and \"Shutil\" allows to do actions with files or directory."
   ]
  },
  {
   "cell_type": "code",
   "execution_count": 1,
   "id": "a4c5cc83",
   "metadata": {},
   "outputs": [],
   "source": [
    "import os\n",
    "import shutil\n",
    "from typing import Generator, List"
   ]
  },
  {
   "cell_type": "markdown",
   "id": "8cac3748",
   "metadata": {},
   "source": [
    "### How it works - Example\n",
    "\n",
    "The `get_chapters` function takes the root directory of a dataset and returns all directories that do not have subdirectories (final chapter directories). Here's an example:\n",
    "\n",
    "**Root directory structure:**\n",
    "```text\n",
    "datasets/\n",
    "└── LibriSpeech/\n",
    "    └── dev-clean/\n",
    "        ├── 1272/\n",
    "        │   ├── 128104/\n",
    "        │   └── 128105/\n",
    "        └── 1988/\n",
    "            ├── 147956/\n",
    "            └── 147957/\n",
    "```\n",
    "**Would return:**\n",
    "```text\n",
    "[\n",
    "    'datasets/LibriSpeech/dev-clean/1272/128104',\n",
    "    'datasets/LibriSpeech/dev-clean/1272/128105',\n",
    "    'datasets/LibriSpeech/dev-clean/1988/147956',\n",
    "    'datasets/LibriSpeech/dev-clean/1988/147957'\n",
    "]\n",
    "```"
   ]
  },
  {
   "cell_type": "code",
   "execution_count": 18,
   "id": "44b66dec",
   "metadata": {},
   "outputs": [],
   "source": [
    "def get_chapters(root_directory: str) -> list[str]:\n",
    "    \"\"\" Get all chapters from the root directory. \n",
    "\n",
    "    Args:\n",
    "        root_directory (str): path to the root directory\n",
    "\n",
    "    Returns:\n",
    "        list[str]: list of paths to chapters\n",
    "    \"\"\"    \n",
    "    chapters = []\n",
    "    for act_root, sub_dirs, files in os.walk(root_directory):\n",
    "        if not sub_dirs:\n",
    "            chapters.append(act_root)\n",
    "    return chapters"
   ]
  },
  {
   "cell_type": "markdown",
   "id": "c1927cf3",
   "metadata": {},
   "source": [
    "### How it works - Example\n",
    "The `get_groups` function takes a list of chapters and splits it into groups of a specified length.\n",
    "\n",
    "Assume you have the following list of chapter paths:\n",
    "\n",
    "```text\n",
    "[\n",
    "    'datasets/LibriSpeech/dev-clean/1272/128104',\n",
    "    'datasets/LibriSpeech/dev-clean/1272/128105',\n",
    "    'datasets/LibriSpeech/dev-clean/1988/147956',\n",
    "    'datasets/LibriSpeech/dev-clean/1988/147957',\n",
    "    'datasets/LibriSpeech/dev-clean/2010/128202'\n",
    "]\n",
    "```\n",
    "calling the `get_groups(list_of_chapters, 2)` **would return:**\n",
    "\n",
    "```text\n",
    "[\n",
    "    ['datasets/LibriSpeech/dev-clean/1272/128104', 'datasets/LibriSpeech/dev-clean/1272/128105'],\n",
    "    ['datasets/LibriSpeech/dev-clean/1988/147956', 'datasets/LibriSpeech/dev-clean/1988/147957'],\n",
    "    ['datasets/LibriSpeech/dev-clean/2010/128202']\n",
    "]\n",
    "```"
   ]
  },
  {
   "cell_type": "code",
   "execution_count": null,
   "id": "d3f81810",
   "metadata": {},
   "outputs": [],
   "source": [
    "def get_groups(list_of_chapters: List[str], \n",
    "                length_group: int\n",
    "                ) -> Generator[List, None, None]:\n",
    "    \"\"\"Split the list of chapters into groups of a specified length.\n",
    "\n",
    "    Args:\n",
    "        list_of_chapters (List[str]): list of chapters to be grouped\n",
    "        length_group (int): length of each group\n",
    "\n",
    "    Yields:\n",
    "        Generator[List, None, None]: generator yielding groups of chapters\n",
    "    \"\"\"    \n",
    "    for i in range(0, len(list_of_chapters), length_group):\n",
    "        yield list_of_chapters[i:i + length_group]"
   ]
  },
  {
   "cell_type": "markdown",
   "id": "46cfc5d5",
   "metadata": {},
   "source": [
    "### How it works - Example\n",
    "\n",
    "The `move_chapters` function takes a list of grouped chapter paths and moves \n",
    "each chapter into a new directory structure under a destination path.\n",
    "\n",
    "Assume the following input:\n",
    "```text\n",
    "[\n",
    "    ['datasets/LibriSpeech/dev-clean/1272/128104', 'datasets/LibriSpeech/dev-clean/1272/128105'],\n",
    "    ['datasets/LibriSpeech/dev-clean/1988/147956', 'datasets/LibriSpeech/dev-clean/1988/147957'],\n",
    "    ['datasets/LibriSpeech/dev-clean/2010/128202']\n",
    "]\n",
    "```\n",
    "Calling `move_chapters(groups, dest_directory)` **would return:**\n",
    "```text\n",
    "datasets/\n",
    "└── LibriSpeech/\n",
    "    └── chapter-groups/\n",
    "        ├── group_1/\n",
    "        │   ├── 128104/\n",
    "        │   └── 128105/\n",
    "        └── group_2/\n",
    "            ├── 147956/\n",
    "            └── 147957/\n",
    "```"
   ]
  },
  {
   "cell_type": "code",
   "execution_count": null,
   "id": "a10cf466",
   "metadata": {},
   "outputs": [],
   "source": [
    "def move_chapters(groups: list[str], dest_directory: str) -> None:\n",
    "    \"\"\" Move chapters to a new directory.\n",
    "\n",
    "    Args:\n",
    "        groups (list[str]): list of groups of chapters\n",
    "        dest_directory (str): path to the destination directory\n",
    "    \"\"\"    \n",
    "    os.makedirs(dest_directory, exist_ok=True)\n",
    "    \n",
    "    # Move each group of chapters to a new directory\n",
    "    for i, group in enumerate(groups):\n",
    "        group_name = f\"group_{i+1}\"\n",
    "        dest_group = os.path.join(dest_directory, group_name)\n",
    "        os.makedirs(dest_group, exist_ok=True)\n",
    "        \n",
    "        # Move each chapter in the group to the new directory\n",
    "        for chapter in group:\n",
    "            name_chapter = os.path.basename(chapter)\n",
    "            new_directory = os.path.join(dest_group, name_chapter) \n",
    "            shutil.copytree(chapter, new_directory)\n",
    "            print(f\"Moved {chapter} to {new_directory}\")\n",
    "            \n",
    "        print(f\"\\nGroup {i + 1} completed ({len(group)} chapters) in {dest_group}.\\n\")"
   ]
  },
  {
   "cell_type": "code",
   "execution_count": null,
   "id": "c39164f4",
   "metadata": {},
   "outputs": [],
   "source": [
    "# Ensure that you have the correct path to your root directory\n",
    "root_directory = \"datasets/LibriSpeech/dev-clean\" \n",
    "# Ensure that you have the correct path until \"datasets/LibriSpeech/\"\n",
    "dest_directory = \"datasets/LibriSpeech/chapter-groups\" \n",
    "\n",
    "chapters = get_chapters(root_directory)\n",
    "groups = list(get_groups(chapters, 100))\n",
    "move_chapters(groups, dest_directory) "
   ]
  }
 ],
 "metadata": {
  "kernelspec": {
   "display_name": "env",
   "language": "python",
   "name": "python3"
  },
  "language_info": {
   "codemirror_mode": {
    "name": "ipython",
    "version": 3
   },
   "file_extension": ".py",
   "mimetype": "text/x-python",
   "name": "python",
   "nbconvert_exporter": "python",
   "pygments_lexer": "ipython3",
   "version": "3.9.6"
  }
 },
 "nbformat": 4,
 "nbformat_minor": 5
}
