{
 "cells": [
  {
   "cell_type": "markdown",
   "id": "49153db2",
   "metadata": {},
   "source": [
    "##### \"Os\" allows to go through all the system and \"Shutil\" allows to do actions with files or directory."
   ]
  },
  {
   "cell_type": "code",
   "execution_count": 1,
   "id": "a4c5cc83",
   "metadata": {},
   "outputs": [],
   "source": [
    "import os\n",
    "import shutil\n",
    "from typing import Generator, List"
   ]
  },
  {
   "cell_type": "markdown",
   "id": "8cac3748",
   "metadata": {},
   "source": [
    "##### This function gets all the chapters and save them in an array."
   ]
  },
  {
   "cell_type": "code",
   "execution_count": 2,
   "id": "44b66dec",
   "metadata": {},
   "outputs": [],
   "source": [
    "def get_chapters(root_directory: str) -> list[str]:\n",
    "    \"\"\" Get all chapters from the root directory. \"\"\"\n",
    "    chapters = []\n",
    "    for act_root, sub_dirs, files in os.walk(root_directory):\n",
    "        if not sub_dirs:\n",
    "            chapters.append(act_root)\n",
    "    return chapters"
   ]
  },
  {
   "cell_type": "markdown",
   "id": "c1927cf3",
   "metadata": {},
   "source": [
    "##### This function gets groups of 100 chapters and returns some lists of 100 elements."
   ]
  },
  {
   "cell_type": "code",
   "execution_count": 3,
   "id": "d3f81810",
   "metadata": {},
   "outputs": [],
   "source": [
    "def get_groups(list_of_chapters: List[str], \n",
    "                length_group: int) -> Generator[List, None, None]:\n",
    "    \"\"\" Split the list of chapters into groups of a specified length. \"\"\"\n",
    "    for i in range(0, len(list_of_chapters), length_group):\n",
    "        yield list_of_chapters[i:i + length_group]"
   ]
  },
  {
   "cell_type": "code",
   "execution_count": null,
   "id": "a10cf466",
   "metadata": {},
   "outputs": [],
   "source": [
    "def move_chapters(groups: list[str], dest_directory: str) -> None:\n",
    "    \"\"\" Move chapters to a new directory. \"\"\"\n",
    "    os.makedirs(dest_directory, exist_ok=True)\n",
    "    \n",
    "    # Move each group of chapters to a new directory\n",
    "    for i, group in enumerate(groups):\n",
    "        group_name = f\"group_{i+1}\"\n",
    "        dest_group = os.path.join(dest_directory, group_name)\n",
    "        os.makedirs(dest_group, exist_ok=True)\n",
    "        \n",
    "        # Move each chapter in the group to the new directory\n",
    "        for chapter in group:\n",
    "            name_chapter = os.path.basename(chapter)\n",
    "            new_directory = os.path.join(dest_group, name_chapter) \n",
    "            shutil.copytree(chapter, new_directory)\n",
    "            print(f\"Moved {chapter} to {new_directory}\")\n",
    "            \n",
    "        print(f\"\\nGroup {i + 1} completed ({len(group)} chapters) en {dest_group}.\\n\")"
   ]
  },
  {
   "cell_type": "code",
   "execution_count": 5,
   "id": "c39164f4",
   "metadata": {},
   "outputs": [
    {
     "ename": "PermissionError",
     "evalue": "[Errno 13] Permission denied: 'datasets/LibriSpeech/dev-clean\\\\1272\\\\128104'",
     "output_type": "error",
     "traceback": [
      "\u001b[1;31m---------------------------------------------------------------------------\u001b[0m",
      "\u001b[1;31mPermissionError\u001b[0m                           Traceback (most recent call last)",
      "Cell \u001b[1;32mIn[5], line 8\u001b[0m\n\u001b[0;32m      6\u001b[0m chapters \u001b[38;5;241m=\u001b[39m get_chapters(root_directory)\n\u001b[0;32m      7\u001b[0m groups \u001b[38;5;241m=\u001b[39m \u001b[38;5;28mlist\u001b[39m(get_groups(chapters, \u001b[38;5;241m100\u001b[39m))\n\u001b[1;32m----> 8\u001b[0m \u001b[43mmove_chapters\u001b[49m\u001b[43m(\u001b[49m\u001b[43mgroups\u001b[49m\u001b[43m,\u001b[49m\u001b[43m \u001b[49m\u001b[43mdest_directory\u001b[49m\u001b[43m)\u001b[49m \n",
      "Cell \u001b[1;32mIn[4], line 15\u001b[0m, in \u001b[0;36mmove_chapters\u001b[1;34m(groups, dest_directory)\u001b[0m\n\u001b[0;32m     13\u001b[0m     name_chapter \u001b[38;5;241m=\u001b[39m os\u001b[38;5;241m.\u001b[39mpath\u001b[38;5;241m.\u001b[39mbasename(chapter)\n\u001b[0;32m     14\u001b[0m     new_directory \u001b[38;5;241m=\u001b[39m os\u001b[38;5;241m.\u001b[39mpath\u001b[38;5;241m.\u001b[39mjoin(dest_group, name_chapter) \n\u001b[1;32m---> 15\u001b[0m     \u001b[43mshutil\u001b[49m\u001b[38;5;241;43m.\u001b[39;49m\u001b[43mcopy\u001b[49m\u001b[43m(\u001b[49m\u001b[43mchapter\u001b[49m\u001b[43m,\u001b[49m\u001b[43m \u001b[49m\u001b[43mnew_directory\u001b[49m\u001b[43m)\u001b[49m\n\u001b[0;32m     16\u001b[0m     \u001b[38;5;28mprint\u001b[39m(\u001b[38;5;124mf\u001b[39m\u001b[38;5;124m\"\u001b[39m\u001b[38;5;124mMoved \u001b[39m\u001b[38;5;132;01m{\u001b[39;00mchapter\u001b[38;5;132;01m}\u001b[39;00m\u001b[38;5;124m to \u001b[39m\u001b[38;5;132;01m{\u001b[39;00mnew_directory\u001b[38;5;132;01m}\u001b[39;00m\u001b[38;5;124m\"\u001b[39m)\n\u001b[0;32m     18\u001b[0m \u001b[38;5;28mprint\u001b[39m(\u001b[38;5;124mf\u001b[39m\u001b[38;5;124m\"\u001b[39m\u001b[38;5;130;01m\\n\u001b[39;00m\u001b[38;5;124mGroup \u001b[39m\u001b[38;5;132;01m{\u001b[39;00mi\u001b[38;5;250m \u001b[39m\u001b[38;5;241m+\u001b[39m\u001b[38;5;250m \u001b[39m\u001b[38;5;241m1\u001b[39m\u001b[38;5;132;01m}\u001b[39;00m\u001b[38;5;124m completed (\u001b[39m\u001b[38;5;132;01m{\u001b[39;00m\u001b[38;5;28mlen\u001b[39m(group)\u001b[38;5;132;01m}\u001b[39;00m\u001b[38;5;124m chapters) en \u001b[39m\u001b[38;5;132;01m{\u001b[39;00mdest_group\u001b[38;5;132;01m}\u001b[39;00m\u001b[38;5;124m.\u001b[39m\u001b[38;5;130;01m\\n\u001b[39;00m\u001b[38;5;124m\"\u001b[39m)\n",
      "File \u001b[1;32mc:\\Users\\diego\\AppData\\Local\\Programs\\Python\\Python312\\Lib\\shutil.py:435\u001b[0m, in \u001b[0;36mcopy\u001b[1;34m(src, dst, follow_symlinks)\u001b[0m\n\u001b[0;32m    433\u001b[0m \u001b[38;5;28;01mif\u001b[39;00m os\u001b[38;5;241m.\u001b[39mpath\u001b[38;5;241m.\u001b[39misdir(dst):\n\u001b[0;32m    434\u001b[0m     dst \u001b[38;5;241m=\u001b[39m os\u001b[38;5;241m.\u001b[39mpath\u001b[38;5;241m.\u001b[39mjoin(dst, os\u001b[38;5;241m.\u001b[39mpath\u001b[38;5;241m.\u001b[39mbasename(src))\n\u001b[1;32m--> 435\u001b[0m \u001b[43mcopyfile\u001b[49m\u001b[43m(\u001b[49m\u001b[43msrc\u001b[49m\u001b[43m,\u001b[49m\u001b[43m \u001b[49m\u001b[43mdst\u001b[49m\u001b[43m,\u001b[49m\u001b[43m \u001b[49m\u001b[43mfollow_symlinks\u001b[49m\u001b[38;5;241;43m=\u001b[39;49m\u001b[43mfollow_symlinks\u001b[49m\u001b[43m)\u001b[49m\n\u001b[0;32m    436\u001b[0m copymode(src, dst, follow_symlinks\u001b[38;5;241m=\u001b[39mfollow_symlinks)\n\u001b[0;32m    437\u001b[0m \u001b[38;5;28;01mreturn\u001b[39;00m dst\n",
      "File \u001b[1;32mc:\\Users\\diego\\AppData\\Local\\Programs\\Python\\Python312\\Lib\\shutil.py:260\u001b[0m, in \u001b[0;36mcopyfile\u001b[1;34m(src, dst, follow_symlinks)\u001b[0m\n\u001b[0;32m    258\u001b[0m     os\u001b[38;5;241m.\u001b[39msymlink(os\u001b[38;5;241m.\u001b[39mreadlink(src), dst)\n\u001b[0;32m    259\u001b[0m \u001b[38;5;28;01melse\u001b[39;00m:\n\u001b[1;32m--> 260\u001b[0m     \u001b[38;5;28;01mwith\u001b[39;00m \u001b[38;5;28;43mopen\u001b[39;49m\u001b[43m(\u001b[49m\u001b[43msrc\u001b[49m\u001b[43m,\u001b[49m\u001b[43m \u001b[49m\u001b[38;5;124;43m'\u001b[39;49m\u001b[38;5;124;43mrb\u001b[39;49m\u001b[38;5;124;43m'\u001b[39;49m\u001b[43m)\u001b[49m \u001b[38;5;28;01mas\u001b[39;00m fsrc:\n\u001b[0;32m    261\u001b[0m         \u001b[38;5;28;01mtry\u001b[39;00m:\n\u001b[0;32m    262\u001b[0m             \u001b[38;5;28;01mwith\u001b[39;00m \u001b[38;5;28mopen\u001b[39m(dst, \u001b[38;5;124m'\u001b[39m\u001b[38;5;124mwb\u001b[39m\u001b[38;5;124m'\u001b[39m) \u001b[38;5;28;01mas\u001b[39;00m fdst:\n\u001b[0;32m    263\u001b[0m                 \u001b[38;5;66;03m# macOS\u001b[39;00m\n",
      "\u001b[1;31mPermissionError\u001b[0m: [Errno 13] Permission denied: 'datasets/LibriSpeech/dev-clean\\\\1272\\\\128104'"
     ]
    }
   ],
   "source": [
    "# Replace with your actual root directory\n",
    "root_directory = \"datasets/LibriSpeech/dev-clean\" \n",
    "# Replace with your actual root directory\n",
    "dest_directory = \"datasets/LibriSpeech/chapter-groups\" \n",
    "\n",
    "chapters = get_chapters(root_directory)\n",
    "groups = list(get_groups(chapters, 100))\n",
    "move_chapters(groups, dest_directory) "
   ]
  }
 ],
 "metadata": {
  "kernelspec": {
   "display_name": "Python 3",
   "language": "python",
   "name": "python3"
  },
  "language_info": {
   "codemirror_mode": {
    "name": "ipython",
    "version": 3
   },
   "file_extension": ".py",
   "mimetype": "text/x-python",
   "name": "python",
   "nbconvert_exporter": "python",
   "pygments_lexer": "ipython3",
   "version": "3.12.7"
  }
 },
 "nbformat": 4,
 "nbformat_minor": 5
}
