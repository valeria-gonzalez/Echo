{
 "cells": [
  {
   "cell_type": "markdown",
   "id": "49153db2",
   "metadata": {},
   "source": [
    "##### \"Os\" allows to go through all the system and \"Shutil\" allows to do actions with files or directory."
   ]
  },
  {
   "cell_type": "code",
   "execution_count": null,
   "id": "a4c5cc83",
   "metadata": {},
   "outputs": [],
   "source": [
    "import os\n",
    "import shutil\n",
    "from typing import Generator, List"
   ]
  },
  {
   "cell_type": "markdown",
   "id": "8cac3748",
   "metadata": {},
   "source": [
    "##### This function gets all the chapters and save them in an array."
   ]
  },
  {
   "cell_type": "code",
   "execution_count": null,
   "id": "44b66dec",
   "metadata": {},
   "outputs": [],
   "source": [
    "def get_chapters(root_directory: str) -> list[str]:\n",
    "    \"\"\" Get all chapters from the root directory. \"\"\"\n",
    "    chapters = []\n",
    "    for act_root, sub_dirs, files in os.walk(root_directory):\n",
    "        if not sub_dirs:\n",
    "            chapters.append(act_root)\n",
    "    return chapters"
   ]
  },
  {
   "cell_type": "markdown",
   "id": "c1927cf3",
   "metadata": {},
   "source": [
    "##### This function gets groups of 100 chapters and returns some lists of 100 elements."
   ]
  },
  {
   "cell_type": "code",
   "execution_count": null,
   "id": "d3f81810",
   "metadata": {},
   "outputs": [],
   "source": [
    "def get_groups(list_of_chapters: List[str], \n",
    "                length_group: int) -> Generator[List, None, None]:\n",
    "    \"\"\" Split the list of chapters into groups of a specified length. \"\"\"\n",
    "    for i in range(0, len(list_of_chapters), length_group):\n",
    "        yield list_of_chapters[i:i + length_group]"
   ]
  },
  {
   "cell_type": "code",
   "execution_count": null,
   "id": "a10cf466",
   "metadata": {},
   "outputs": [],
   "source": [
    "def move_chapters(groups: list[str], dest_directory: str) -> None:\n",
    "    \"\"\" Move chapters to a new directory. \"\"\"\n",
    "    os.makedirs(dest_directory, exist_ok=True)\n",
    "    \n",
    "    # Move each group of chapters to a new directory\n",
    "    for i, group in enumerate(groups):\n",
    "        group_name = f\"group_{i+1}\"\n",
    "        dest_group = os.path.join(dest_directory, group_name)\n",
    "        os.makedirs(dest_group, exist_ok=True)\n",
    "        \n",
    "        # Move each chapter in the group to the new directory\n",
    "        for chapter in group:\n",
    "            name_chapter = os.path.basename(chapter)\n",
    "            new_directory = os.path.join(dest_group, name_chapter) \n",
    "            shutil.copy(chapter, new_directory)\n",
    "            print(f\"Moved {chapter} to {new_directory}\")\n",
    "            \n",
    "        print(f\"\\nGroup {i + 1} completed ({len(group)} chapters) en {dest_group}.\\n\")"
   ]
  },
  {
   "cell_type": "code",
   "execution_count": null,
   "id": "c39164f4",
   "metadata": {},
   "outputs": [],
   "source": [
    "# Replace with your actual root directory\n",
    "root_directory = \"datasets/LibriSpeech/dev-clean\" \n",
    "# Replace with your actual root directory\n",
    "dest_directory = \"datasets/LibriSpeech/chapter-groups\" \n",
    "\n",
    "chapters = get_chapters(root_directory)\n",
    "groups = list(get_groups(chapters, 100))\n",
    "move_chapters(groups, dest_directory) "
   ]
  }
 ],
 "metadata": {
  "kernelspec": {
   "display_name": "Python 3",
   "language": "python",
   "name": "python3"
  },
  "language_info": {
   "codemirror_mode": {
    "name": "ipython",
    "version": 3
   },
   "file_extension": ".py",
   "mimetype": "text/x-python",
   "name": "python",
   "nbconvert_exporter": "python",
   "pygments_lexer": "ipython3",
   "version": "3.12.7"
  }
 },
 "nbformat": 4,
 "nbformat_minor": 5
}
