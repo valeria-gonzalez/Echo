{
 "cells": [
  {
   "cell_type": "markdown",
   "id": "3f88cf44",
   "metadata": {},
   "source": [
    "##### Os allow go to every place in our operative system and pydub allow to do actions with audio files.\n"
   ]
  },
  {
   "cell_type": "code",
   "execution_count": null,
   "id": "9790a88c",
   "metadata": {},
   "outputs": [],
   "source": [
    "import os\n",
    "from pydub import AudioSegment"
   ]
  },
  {
   "cell_type": "code",
   "execution_count": null,
   "id": "902f54aa",
   "metadata": {},
   "outputs": [],
   "source": [
    "def chapter_book_map(books_path: str, chapters_path: str) -> dict:\n",
    "    \n",
    "    book_id_to_title = {}\n",
    "    chapter_to_book = {}\n",
    "    \n",
    "    with open(books_path, 'r', encoding='utf-8') as file:\n",
    "        for line in file:\n",
    "            if \"|\" in line:\n",
    "                parts = line.strip().split(\"|\")\n",
    "                if len(parts) >= 2:\n",
    "                    book_id = parts[0].strip()\n",
    "                    title = parts[1].strip()\n",
    "                    book_id_to_title[book_id] = title\n",
    "                    \n",
    "    with open(chapters_path, 'r', encoding='utf-8') as file:\n",
    "        for line in file:\n",
    "            if \"|\" in line:\n",
    "                parts = [part.strip() for part in line.strip().split(\"|\")]\n",
    "                if len(parts) >= 7:\n",
    "                    chapter_id = parts[0]\n",
    "                    book_id = parts[5]\n",
    "                    chapter_title = parts[6]\n",
    "                    book_title = book_id_to_title.get(book_id, \"Unknown Book\")\n",
    "                    chapter_to_book[chapter_id] = f\"{book_title} - ({chapter_title})\"\n",
    "                    print(  f\"Chapter ID: {chapter_id}, \"\n",
    "                            f\"Book ID: {book_id}, \" \n",
    "                            f\"Book Title: {book_title}, \"\n",
    "                            f\"Chapter Title: {chapter_title}\"\n",
    "                        )\n",
    "    return chapter_to_book"
   ]
  },
  {
   "cell_type": "code",
   "execution_count": null,
   "id": "ce9e8cde",
   "metadata": {},
   "outputs": [],
   "source": [
    "def load_transcriptions(route_txt: str) -> dict:\n",
    "    \"\"\" This function converts a transcription file into a dictionary. \"\"\"\n",
    "    trans = {}\n",
    "    with open(route_txt, 'r', encoding='utf-8') as file:\n",
    "        for line in file:\n",
    "            if line.strip():\n",
    "                # Separating the ID and the text\n",
    "                parts = line.strip().split(\" \", 1) \n",
    "                if len(parts) == 2:\n",
    "                    id_audio, text = parts\n",
    "                    trans[id_audio] = text\n",
    "    return trans"
   ]
  },
  {
   "cell_type": "markdown",
   "id": "1c0fabfe",
   "metadata": {},
   "source": [
    "##### This function process every chapter to do new audio and text files."
   ]
  },
  {
   "cell_type": "code",
   "execution_count": null,
   "id": "5056b92a",
   "metadata": {},
   "outputs": [],
   "source": [
    "def process_chapter(route_chapter: str, \n",
    "                    route_txt: str, \n",
    "                    dest_dir: str,\n",
    "                    chapter_to_book: dict\n",
    "                    ) -> None:\n",
    "    \"\"\" This function processes a chapter directory, splitting audio files into\n",
    "    segments and creating corresponding transcription files. \"\"\"\n",
    "    trans = load_transcriptions(route_txt)\n",
    "    # sorting the audio files to ensure they are processed in order\n",
    "    audios = sorted([f for f in os.listdir(route_chapter) if f.endswith(\".flac\")])\n",
    "    \n",
    "    # Segment audio initialization\n",
    "    act_segment = AudioSegment.empty()\n",
    "    # List to store transcriptions for the current segment\n",
    "    act_trans = []\n",
    "    max_duration = 30 * 1000\n",
    "    # Duration accumulated in the current segment\n",
    "    act_duration = 0\n",
    "    count = 0\n",
    "    \n",
    "    # Create the directory for the chapter\n",
    "    chapter_name = os.path.basename(route_chapter)\n",
    "    dir_chapter = os.path.join(dest_dir, chapter_name)\n",
    "    os.makedirs(dir_chapter, exist_ok=True)\n",
    "    \n",
    "    book_title = chapter_to_book.get(chapter_name, \"Unknown Book\")\n",
    "    \n",
    "    for audio in audios:\n",
    "        # Delete the extension in the file\n",
    "        id_audio = os.path.splitext(audio)[0]\n",
    "        audio_route = os.path.join(route_chapter, audio)\n",
    "        # Load the audio file\n",
    "        audio_seg = AudioSegment.from_file(audio_route)\n",
    "        duration = len(audio_seg)\n",
    "        \n",
    "        if len(act_segment) + len(audio_seg) > max_duration:\n",
    "            name = f\"segment_{count}\"\n",
    "            file_route = os.path.join(dir_chapter, name + \".flac\")\n",
    "            txt_route = os.path.join(dir_chapter, name + \".txt\")\n",
    "            # Export the new audio file\n",
    "            act_segment.export(file_route, format=\"flac\")\n",
    "            \n",
    "            # Write the new transcription file\n",
    "            with open(txt_route, \"w\", encoding=\"utf-8\") as file:\n",
    "                file.write(f\"Book title: {book_title}\\n\\n\")\n",
    "                for i, line in enumerate(act_trans):\n",
    "                    file.write(f\"{i}: {line}\\n\")\n",
    "            \n",
    "            # Reset the initialization for the next segment\n",
    "            count += 1\n",
    "            act_segment = AudioSegment.empty()\n",
    "            act_trans = []\n",
    "            act_duration = 0\n",
    "            \n",
    "        # Calculate the start and end time for the transcription\n",
    "        start = act_duration\n",
    "        end = act_duration + duration\n",
    "        \n",
    "        # Look for the transcription in the dictionary\n",
    "        trans_line = trans.get(id_audio,\" \")\n",
    "        act_trans.append(f\"{id_audio} [{start/1000:.2f}s - {end/1000:.2f}s]: {trans_line}\")\n",
    "        \n",
    "        \n",
    "        act_segment += audio_seg\n",
    "        act_duration += duration\n",
    "        \n",
    "    if len(act_segment) > 0:\n",
    "        name = f\"segment_{count}\"\n",
    "        file_route = os.path.join(dir_chapter, name + \".flac\")\n",
    "        txt_route = os.path.join(dir_chapter, name + \".txt\")\n",
    "        act_segment.export(file_route, format=\"flac\")\n",
    "            \n",
    "        with open(txt_route, \"w\", encoding=\"utf-8\") as file:\n",
    "            file.write(f\"Book title: {book_title}\\n\\n\")\n",
    "            for i, line in enumerate(act_trans):\n",
    "                    file.write(f\"{i}: {line}\\n\")"
   ]
  },
  {
   "cell_type": "markdown",
   "id": "9e768f8c",
   "metadata": {},
   "source": [
    "##### This function goes to through all chapters for process them"
   ]
  },
  {
   "cell_type": "code",
   "execution_count": null,
   "id": "266c577d",
   "metadata": {},
   "outputs": [],
   "source": [
    "def process_all_chapters(root_dir: str, dest_dir: str) -> None:\n",
    "    \"\"\"\" This function processes all chapters in the given root directory. \"\"\"\n",
    "    for chapter in os.listdir(root_dir):\n",
    "        chapter_path = os.path.join(root_dir, chapter)\n",
    "        if os.path.isdir(chapter_path):\n",
    "            files_txt = [f for f in os.listdir(chapter_path) if f.endswith(\".txt\")]\n",
    "            if files_txt:\n",
    "                route_txt = os.path.join(chapter_path, files_txt[0])\n",
    "                process_chapter(chapter_path, route_txt, dest_dir)\n",
    "                print(f\"Processed chapter: {chapter}\")"
   ]
  },
  {
   "cell_type": "code",
   "execution_count": null,
   "id": "08cfeaf4",
   "metadata": {},
   "outputs": [],
   "source": [
    "root_dir = \"your_root_directory/\"\n",
    "books_path = \"datasets/LibriSpeech/BOOKS.TXT\"\n",
    "chapters_path = \"datasets/LibriSpeech/CHAPTERS.TXT\"\n",
    "dest_dir = \"your_destination_directory/\"\n",
    "os.makedirs(dest_dir, exist_ok=True)\n",
    "chapter_to_book = chapter_book_map(books_path, chapters_path)\n",
    "process_all_chapters(root_dir, dest_dir, chapter_to_book)"
   ]
  }
 ],
 "metadata": {
  "kernelspec": {
   "display_name": ".venv",
   "language": "python",
   "name": "python3"
  },
  "language_info": {
   "codemirror_mode": {
    "name": "ipython",
    "version": 3
   },
   "file_extension": ".py",
   "mimetype": "text/x-python",
   "name": "python",
   "nbconvert_exporter": "python",
   "pygments_lexer": "ipython3",
   "version": "3.12.7"
  }
 },
 "nbformat": 4,
 "nbformat_minor": 5
}
