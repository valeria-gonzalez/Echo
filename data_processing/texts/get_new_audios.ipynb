{
 "cells": [
  {
   "cell_type": "markdown",
   "id": "3f88cf44",
   "metadata": {},
   "source": [
    "##### Os allow go to every place in our operative system and pydub allow to do actions with audio files.\n"
   ]
  },
  {
   "cell_type": "code",
   "execution_count": 1,
   "id": "9790a88c",
   "metadata": {},
   "outputs": [],
   "source": [
    "import os\n",
    "from pydub import AudioSegment"
   ]
  },
  {
   "cell_type": "code",
   "execution_count": null,
   "id": "ce9e8cde",
   "metadata": {},
   "outputs": [],
   "source": [
    "def load_transcriptions(route_txt: str) -> dict:\n",
    "    \"\"\" This function converts a transcription file into a dictionary. \"\"\"\n",
    "    trans = {}\n",
    "    with open(route_txt, 'r', encoding='utf-8') as file:\n",
    "        for line in file:\n",
    "            if line.strip():\n",
    "                # Separating the ID and the text\n",
    "                parts = line.strip().split(\" \", 1) \n",
    "                if len(parts) == 2:\n",
    "                    id_audio, text = parts\n",
    "                    trans[id_audio] = text\n",
    "    return trans"
   ]
  },
  {
   "cell_type": "markdown",
   "id": "1c0fabfe",
   "metadata": {},
   "source": [
    "##### This function process every chapter to do new audio and text files."
   ]
  },
  {
   "cell_type": "code",
   "execution_count": null,
   "id": "5056b92a",
   "metadata": {},
   "outputs": [],
   "source": [
    "def process_chapter(route_chapter: str, route_txt: str, dest_dir: str) -> None:\n",
    "    \"\"\" This function processes a chapter directory, splitting audio files into\n",
    "    segments and creating corresponding transcription files. \"\"\"\n",
    "    trans = load_transcriptions(route_txt)\n",
    "    # sorting the audio files to ensure they are processed in order\n",
    "    audios = sorted([f for f in os.listdir(route_chapter) if f.endswith(\".flac\")])\n",
    "    \n",
    "    # Segment audio initialization\n",
    "    act_segment = AudioSegment.empty()\n",
    "    # List to store transcriptions for the current segment\n",
    "    act_trans = []\n",
    "    max_duration = 30 * 1000\n",
    "    # Duration accumulated in the current segment\n",
    "    act_duration = 0\n",
    "    count = 0\n",
    "    \n",
    "    # Create the directory for the chapter\n",
    "    chapter_name = os.path.basename(route_chapter)\n",
    "    dir_chapter = os.path.join(dest_dir, chapter_name)\n",
    "    os.makedirs(dir_chapter, exist_ok=True)\n",
    "    \n",
    "    for audio in audios:\n",
    "        # Delete the extension in the file\n",
    "        id_audio = os.path.splitext(audio)[0]\n",
    "        audio_route = os.path.join(route_chapter, audio)\n",
    "        # Load the audio file\n",
    "        audio_seg = AudioSegment.from_file(audio_route)\n",
    "        duration = len(audio_seg)\n",
    "        \n",
    "        if len(act_segment) + len(audio_seg) > max_duration:\n",
    "            name = f\"segment_{count}\"\n",
    "            file_route = os.path.join(dir_chapter, name + \".flac\")\n",
    "            txt_route = os.path.join(dir_chapter, name + \".txt\")\n",
    "            # Export the new audio file\n",
    "            act_segment.export(file_route, format=\"flac\")\n",
    "            \n",
    "            # Write the new transcription file\n",
    "            with open(txt_route, \"w\", encoding=\"utf-8\") as file:\n",
    "                for i, line in enumerate(act_trans):\n",
    "                    file.write(f\"{i}: {line}\\n\")\n",
    "            \n",
    "            # Reset the initialization for the next segment\n",
    "            count += 1\n",
    "            act_segment = AudioSegment.empty()\n",
    "            act_trans = []\n",
    "            act_duration = 0\n",
    "            \n",
    "        # Calculate the start and end time for the transcription\n",
    "        start = act_duration\n",
    "        end = act_duration + duration\n",
    "        \n",
    "        # Look for the transcription in the dictionary\n",
    "        trans_line = trans.get(id_audio,\" \")\n",
    "        act_trans.append(f\"{id_audio} [{start/1000:.2f}s - {end/1000:.2f}s]: {trans_line}\")\n",
    "        \n",
    "        \n",
    "        act_segment += audio_seg\n",
    "        act_duration += duration\n",
    "        \n",
    "    if len(act_segment) > 0:\n",
    "        name = f\"segment_{count}\"\n",
    "        file_route = os.path.join(dir_chapter, name + \".flac\")\n",
    "        txt_route = os.path.join(dir_chapter, name + \".txt\")\n",
    "        act_segment.export(file_route, format=\"flac\")\n",
    "            \n",
    "        with open(txt_route, \"w\", encoding=\"utf-8\") as file:\n",
    "            for i, line in enumerate(act_trans):\n",
    "                    file.write(f\"{i}: {line}\\n\")"
   ]
  },
  {
   "cell_type": "markdown",
   "id": "9e768f8c",
   "metadata": {},
   "source": [
    "##### This function goes to through all chapters for process them"
   ]
  },
  {
   "cell_type": "code",
   "execution_count": null,
   "id": "266c577d",
   "metadata": {},
   "outputs": [],
   "source": [
    "def process_all_chapters(root_dir: str, dest_dir: str) -> None:\n",
    "    \"\"\"\" This function processes all chapters in the given root directory. \"\"\"\n",
    "    for chapter in os.listdir(root_dir):\n",
    "        chapter_path = os.path.join(root_dir, chapter)\n",
    "        if os.path.isdir(chapter_path):\n",
    "            files_txt = [f for f in os.listdir(chapter_path) if f.endswith(\".txt\")]\n",
    "            if files_txt:\n",
    "                route_txt = os.path.join(chapter_path, files_txt[0])\n",
    "                process_chapter(chapter_path, route_txt, dest_dir)\n",
    "                print(f\"Processed chapter: {chapter}\")"
   ]
  },
  {
   "cell_type": "code",
   "execution_count": 5,
   "id": "08cfeaf4",
   "metadata": {},
   "outputs": [
    {
     "name": "stdout",
     "output_type": "stream",
     "text": [
      "Processed chapter: 105575\n",
      "Processed chapter: 110124\n",
      "Processed chapter: 110523\n",
      "Processed chapter: 111771\n",
      "Processed chapter: 118436\n",
      "Processed chapter: 121123\n",
      "Processed chapter: 121550\n",
      "Processed chapter: 122949\n",
      "Processed chapter: 126732\n",
      "Processed chapter: 128104\n",
      "Processed chapter: 129742\n",
      "Processed chapter: 130726\n",
      "Processed chapter: 130737\n",
      "Processed chapter: 135031\n",
      "Processed chapter: 136532\n",
      "Processed chapter: 137482\n",
      "Processed chapter: 137823\n",
      "Processed chapter: 138058\n",
      "Processed chapter: 141231\n",
      "Processed chapter: 142785\n",
      "Processed chapter: 142845\n",
      "Processed chapter: 143396\n"
     ]
    },
    {
     "ename": "KeyboardInterrupt",
     "evalue": "",
     "output_type": "error",
     "traceback": [
      "\u001b[31m---------------------------------------------------------------------------\u001b[39m",
      "\u001b[31mKeyboardInterrupt\u001b[39m                         Traceback (most recent call last)",
      "\u001b[36mCell\u001b[39m\u001b[36m \u001b[39m\u001b[32mIn[5]\u001b[39m\u001b[32m, line 5\u001b[39m\n\u001b[32m      2\u001b[39m dest_dir = \u001b[33m\"\u001b[39m\u001b[33mprocessed_segments/\u001b[39m\u001b[33m\"\u001b[39m\n\u001b[32m      4\u001b[39m os.makedirs(dest_dir, exist_ok=\u001b[38;5;28;01mTrue\u001b[39;00m)\n\u001b[32m----> \u001b[39m\u001b[32m5\u001b[39m \u001b[43mprocess_all_chapters\u001b[49m\u001b[43m(\u001b[49m\u001b[43mroot_dir\u001b[49m\u001b[43m,\u001b[49m\u001b[43m \u001b[49m\u001b[43mdest_dir\u001b[49m\u001b[43m)\u001b[49m\n",
      "\u001b[36mCell\u001b[39m\u001b[36m \u001b[39m\u001b[32mIn[4]\u001b[39m\u001b[32m, line 8\u001b[39m, in \u001b[36mprocess_all_chapters\u001b[39m\u001b[34m(root_dir, dest_dir)\u001b[39m\n\u001b[32m      6\u001b[39m \u001b[38;5;28;01mif\u001b[39;00m files_txt:\n\u001b[32m      7\u001b[39m     route_txt = os.path.join(chapter_path, files_txt[\u001b[32m0\u001b[39m])\n\u001b[32m----> \u001b[39m\u001b[32m8\u001b[39m     \u001b[43mprocess_chapter\u001b[49m\u001b[43m(\u001b[49m\u001b[43mchapter_path\u001b[49m\u001b[43m,\u001b[49m\u001b[43m \u001b[49m\u001b[43mroute_txt\u001b[49m\u001b[43m,\u001b[49m\u001b[43m \u001b[49m\u001b[43mdest_dir\u001b[49m\u001b[43m)\u001b[49m\n\u001b[32m      9\u001b[39m     \u001b[38;5;28mprint\u001b[39m(\u001b[33mf\u001b[39m\u001b[33m\"\u001b[39m\u001b[33mProcessed chapter: \u001b[39m\u001b[38;5;132;01m{\u001b[39;00mchapter\u001b[38;5;132;01m}\u001b[39;00m\u001b[33m\"\u001b[39m)\n",
      "\u001b[36mCell\u001b[39m\u001b[36m \u001b[39m\u001b[32mIn[3]\u001b[39m\u001b[32m, line 18\u001b[39m, in \u001b[36mprocess_chapter\u001b[39m\u001b[34m(route_chapter, route_txt, dest_dir)\u001b[39m\n\u001b[32m     16\u001b[39m id_audio = os.path.splitext(audio)[\u001b[32m0\u001b[39m]\n\u001b[32m     17\u001b[39m audio_route = os.path.join(route_chapter, audio)\n\u001b[32m---> \u001b[39m\u001b[32m18\u001b[39m audio_seg = \u001b[43mAudioSegment\u001b[49m\u001b[43m.\u001b[49m\u001b[43mfrom_file\u001b[49m\u001b[43m(\u001b[49m\u001b[43maudio_route\u001b[49m\u001b[43m)\u001b[49m\n\u001b[32m     19\u001b[39m duration = \u001b[38;5;28mlen\u001b[39m(audio_seg)\n\u001b[32m     21\u001b[39m \u001b[38;5;28;01mif\u001b[39;00m \u001b[38;5;28mlen\u001b[39m(act_segment) + \u001b[38;5;28mlen\u001b[39m(audio_seg) > max_duration:\n",
      "\u001b[36mFile \u001b[39m\u001b[32mc:\\Users\\diego\\OneDrive\\Escritorio\\Script-separar-directorios\\.venv\\Lib\\site-packages\\pydub\\audio_segment.py:768\u001b[39m, in \u001b[36mAudioSegment.from_file\u001b[39m\u001b[34m(cls, file, format, codec, parameters, start_second, duration, **kwargs)\u001b[39m\n\u001b[32m    764\u001b[39m log_conversion(conversion_command)\n\u001b[32m    766\u001b[39m p = subprocess.Popen(conversion_command, stdin=stdin_parameter,\n\u001b[32m    767\u001b[39m                      stdout=subprocess.PIPE, stderr=subprocess.PIPE)\n\u001b[32m--> \u001b[39m\u001b[32m768\u001b[39m p_out, p_err = \u001b[43mp\u001b[49m\u001b[43m.\u001b[49m\u001b[43mcommunicate\u001b[49m\u001b[43m(\u001b[49m\u001b[38;5;28;43minput\u001b[39;49m\u001b[43m=\u001b[49m\u001b[43mstdin_data\u001b[49m\u001b[43m)\u001b[49m\n\u001b[32m    770\u001b[39m \u001b[38;5;28;01mif\u001b[39;00m p.returncode != \u001b[32m0\u001b[39m \u001b[38;5;129;01mor\u001b[39;00m \u001b[38;5;28mlen\u001b[39m(p_out) == \u001b[32m0\u001b[39m:\n\u001b[32m    771\u001b[39m     \u001b[38;5;28;01mif\u001b[39;00m close_file:\n",
      "\u001b[36mFile \u001b[39m\u001b[32m~\\AppData\\Local\\Programs\\Python\\Python312\\Lib\\subprocess.py:1209\u001b[39m, in \u001b[36mPopen.communicate\u001b[39m\u001b[34m(self, input, timeout)\u001b[39m\n\u001b[32m   1206\u001b[39m     endtime = \u001b[38;5;28;01mNone\u001b[39;00m\n\u001b[32m   1208\u001b[39m \u001b[38;5;28;01mtry\u001b[39;00m:\n\u001b[32m-> \u001b[39m\u001b[32m1209\u001b[39m     stdout, stderr = \u001b[38;5;28;43mself\u001b[39;49m\u001b[43m.\u001b[49m\u001b[43m_communicate\u001b[49m\u001b[43m(\u001b[49m\u001b[38;5;28;43minput\u001b[39;49m\u001b[43m,\u001b[49m\u001b[43m \u001b[49m\u001b[43mendtime\u001b[49m\u001b[43m,\u001b[49m\u001b[43m \u001b[49m\u001b[43mtimeout\u001b[49m\u001b[43m)\u001b[49m\n\u001b[32m   1210\u001b[39m \u001b[38;5;28;01mexcept\u001b[39;00m \u001b[38;5;167;01mKeyboardInterrupt\u001b[39;00m:\n\u001b[32m   1211\u001b[39m     \u001b[38;5;66;03m# https://bugs.python.org/issue25942\u001b[39;00m\n\u001b[32m   1212\u001b[39m     \u001b[38;5;66;03m# See the detailed comment in .wait().\u001b[39;00m\n\u001b[32m   1213\u001b[39m     \u001b[38;5;28;01mif\u001b[39;00m timeout \u001b[38;5;129;01mis\u001b[39;00m \u001b[38;5;129;01mnot\u001b[39;00m \u001b[38;5;28;01mNone\u001b[39;00m:\n",
      "\u001b[36mFile \u001b[39m\u001b[32m~\\AppData\\Local\\Programs\\Python\\Python312\\Lib\\subprocess.py:1628\u001b[39m, in \u001b[36mPopen._communicate\u001b[39m\u001b[34m(self, input, endtime, orig_timeout)\u001b[39m\n\u001b[32m   1624\u001b[39m \u001b[38;5;66;03m# Wait for the reader threads, or time out.  If we time out, the\u001b[39;00m\n\u001b[32m   1625\u001b[39m \u001b[38;5;66;03m# threads remain reading and the fds left open in case the user\u001b[39;00m\n\u001b[32m   1626\u001b[39m \u001b[38;5;66;03m# calls communicate again.\u001b[39;00m\n\u001b[32m   1627\u001b[39m \u001b[38;5;28;01mif\u001b[39;00m \u001b[38;5;28mself\u001b[39m.stdout \u001b[38;5;129;01mis\u001b[39;00m \u001b[38;5;129;01mnot\u001b[39;00m \u001b[38;5;28;01mNone\u001b[39;00m:\n\u001b[32m-> \u001b[39m\u001b[32m1628\u001b[39m     \u001b[38;5;28;43mself\u001b[39;49m\u001b[43m.\u001b[49m\u001b[43mstdout_thread\u001b[49m\u001b[43m.\u001b[49m\u001b[43mjoin\u001b[49m\u001b[43m(\u001b[49m\u001b[38;5;28;43mself\u001b[39;49m\u001b[43m.\u001b[49m\u001b[43m_remaining_time\u001b[49m\u001b[43m(\u001b[49m\u001b[43mendtime\u001b[49m\u001b[43m)\u001b[49m\u001b[43m)\u001b[49m\n\u001b[32m   1629\u001b[39m     \u001b[38;5;28;01mif\u001b[39;00m \u001b[38;5;28mself\u001b[39m.stdout_thread.is_alive():\n\u001b[32m   1630\u001b[39m         \u001b[38;5;28;01mraise\u001b[39;00m TimeoutExpired(\u001b[38;5;28mself\u001b[39m.args, orig_timeout)\n",
      "\u001b[36mFile \u001b[39m\u001b[32m~\\AppData\\Local\\Programs\\Python\\Python312\\Lib\\threading.py:1149\u001b[39m, in \u001b[36mThread.join\u001b[39m\u001b[34m(self, timeout)\u001b[39m\n\u001b[32m   1146\u001b[39m     \u001b[38;5;28;01mraise\u001b[39;00m \u001b[38;5;167;01mRuntimeError\u001b[39;00m(\u001b[33m\"\u001b[39m\u001b[33mcannot join current thread\u001b[39m\u001b[33m\"\u001b[39m)\n\u001b[32m   1148\u001b[39m \u001b[38;5;28;01mif\u001b[39;00m timeout \u001b[38;5;129;01mis\u001b[39;00m \u001b[38;5;28;01mNone\u001b[39;00m:\n\u001b[32m-> \u001b[39m\u001b[32m1149\u001b[39m     \u001b[38;5;28;43mself\u001b[39;49m\u001b[43m.\u001b[49m\u001b[43m_wait_for_tstate_lock\u001b[49m\u001b[43m(\u001b[49m\u001b[43m)\u001b[49m\n\u001b[32m   1150\u001b[39m \u001b[38;5;28;01melse\u001b[39;00m:\n\u001b[32m   1151\u001b[39m     \u001b[38;5;66;03m# the behavior of a negative timeout isn't documented, but\u001b[39;00m\n\u001b[32m   1152\u001b[39m     \u001b[38;5;66;03m# historically .join(timeout=x) for x<0 has acted as if timeout=0\u001b[39;00m\n\u001b[32m   1153\u001b[39m     \u001b[38;5;28mself\u001b[39m._wait_for_tstate_lock(timeout=\u001b[38;5;28mmax\u001b[39m(timeout, \u001b[32m0\u001b[39m))\n",
      "\u001b[36mFile \u001b[39m\u001b[32m~\\AppData\\Local\\Programs\\Python\\Python312\\Lib\\threading.py:1169\u001b[39m, in \u001b[36mThread._wait_for_tstate_lock\u001b[39m\u001b[34m(self, block, timeout)\u001b[39m\n\u001b[32m   1166\u001b[39m     \u001b[38;5;28;01mreturn\u001b[39;00m\n\u001b[32m   1168\u001b[39m \u001b[38;5;28;01mtry\u001b[39;00m:\n\u001b[32m-> \u001b[39m\u001b[32m1169\u001b[39m     \u001b[38;5;28;01mif\u001b[39;00m \u001b[43mlock\u001b[49m\u001b[43m.\u001b[49m\u001b[43macquire\u001b[49m\u001b[43m(\u001b[49m\u001b[43mblock\u001b[49m\u001b[43m,\u001b[49m\u001b[43m \u001b[49m\u001b[43mtimeout\u001b[49m\u001b[43m)\u001b[49m:\n\u001b[32m   1170\u001b[39m         lock.release()\n\u001b[32m   1171\u001b[39m         \u001b[38;5;28mself\u001b[39m._stop()\n",
      "\u001b[31mKeyboardInterrupt\u001b[39m: "
     ]
    }
   ],
   "source": [
    "root_dir = \"groups/group_1/\"\n",
    "dest_dir = \"processed_segments/\"\n",
    "\n",
    "os.makedirs(dest_dir, exist_ok=True)\n",
    "process_all_chapters(root_dir, dest_dir)"
   ]
  }
 ],
 "metadata": {
  "kernelspec": {
   "display_name": ".venv",
   "language": "python",
   "name": "python3"
  },
  "language_info": {
   "codemirror_mode": {
    "name": "ipython",
    "version": 3
   },
   "file_extension": ".py",
   "mimetype": "text/x-python",
   "name": "python",
   "nbconvert_exporter": "python",
   "pygments_lexer": "ipython3",
   "version": "3.12.7"
  }
 },
 "nbformat": 4,
 "nbformat_minor": 5
}
