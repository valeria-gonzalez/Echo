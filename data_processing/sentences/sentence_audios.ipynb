{
 "cells": [
  {
   "cell_type": "markdown",
   "metadata": {},
   "source": [
    "# Sentence data preprocessing"
   ]
  },
  {
   "cell_type": "code",
   "execution_count": 10,
   "metadata": {},
   "outputs": [],
   "source": [
    "import pandas as pd"
   ]
  },
  {
   "cell_type": "markdown",
   "metadata": {},
   "source": [
    "## 1. Select sentences in english that have audio"
   ]
  },
  {
   "cell_type": "markdown",
   "metadata": {},
   "source": [
    "This section of data preprocessing will focus on selecting english sentences that have an existing audio file."
   ]
  },
  {
   "cell_type": "code",
   "execution_count": 11,
   "metadata": {},
   "outputs": [],
   "source": [
    "# Read sentences in english\n",
    "english_sen = pd.read_csv('datasets/eng_sentences_CC0.tsv', \n",
    "                          sep='\\t',\n",
    "                          names=['id', 'lang', 'text', 'date_last_modified'])\n",
    "\n",
    "# Read sentences in all languages with audio\n",
    "audio_sen = pd.read_csv('datasets/sentences_with_audio.csv', \n",
    "                        sep='\\t',\n",
    "                        names = ['id', 'audio_id', 'username', 'license', 'attribution_url'])"
   ]
  },
  {
   "cell_type": "code",
   "execution_count": 12,
   "metadata": {},
   "outputs": [
    {
     "data": {
      "text/html": [
       "<div>\n",
       "<style scoped>\n",
       "    .dataframe tbody tr th:only-of-type {\n",
       "        vertical-align: middle;\n",
       "    }\n",
       "\n",
       "    .dataframe tbody tr th {\n",
       "        vertical-align: top;\n",
       "    }\n",
       "\n",
       "    .dataframe thead th {\n",
       "        text-align: right;\n",
       "    }\n",
       "</style>\n",
       "<table border=\"1\" class=\"dataframe\">\n",
       "  <thead>\n",
       "    <tr style=\"text-align: right;\">\n",
       "      <th></th>\n",
       "      <th>id</th>\n",
       "      <th>lang</th>\n",
       "      <th>text</th>\n",
       "      <th>date_last_modified</th>\n",
       "    </tr>\n",
       "  </thead>\n",
       "  <tbody>\n",
       "    <tr>\n",
       "      <th>0</th>\n",
       "      <td>330998</td>\n",
       "      <td>eng</td>\n",
       "      <td>Children who spend more time outdoors have a l...</td>\n",
       "      <td>2019-01-12 19:39:42</td>\n",
       "    </tr>\n",
       "    <tr>\n",
       "      <th>1</th>\n",
       "      <td>331000</td>\n",
       "      <td>eng</td>\n",
       "      <td>The idea that reading makes you short-sighted ...</td>\n",
       "      <td>2019-01-12 19:39:42</td>\n",
       "    </tr>\n",
       "    <tr>\n",
       "      <th>2</th>\n",
       "      <td>331259</td>\n",
       "      <td>eng</td>\n",
       "      <td>Most people think computers will never be able...</td>\n",
       "      <td>2019-01-12 19:39:42</td>\n",
       "    </tr>\n",
       "  </tbody>\n",
       "</table>\n",
       "</div>"
      ],
      "text/plain": [
       "       id lang                                               text  \\\n",
       "0  330998  eng  Children who spend more time outdoors have a l...   \n",
       "1  331000  eng  The idea that reading makes you short-sighted ...   \n",
       "2  331259  eng  Most people think computers will never be able...   \n",
       "\n",
       "    date_last_modified  \n",
       "0  2019-01-12 19:39:42  \n",
       "1  2019-01-12 19:39:42  \n",
       "2  2019-01-12 19:39:42  "
      ]
     },
     "execution_count": 12,
     "metadata": {},
     "output_type": "execute_result"
    }
   ],
   "source": [
    "english_sen.head(3)"
   ]
  },
  {
   "cell_type": "code",
   "execution_count": 13,
   "metadata": {},
   "outputs": [
    {
     "data": {
      "text/html": [
       "<div>\n",
       "<style scoped>\n",
       "    .dataframe tbody tr th:only-of-type {\n",
       "        vertical-align: middle;\n",
       "    }\n",
       "\n",
       "    .dataframe tbody tr th {\n",
       "        vertical-align: top;\n",
       "    }\n",
       "\n",
       "    .dataframe thead th {\n",
       "        text-align: right;\n",
       "    }\n",
       "</style>\n",
       "<table border=\"1\" class=\"dataframe\">\n",
       "  <thead>\n",
       "    <tr style=\"text-align: right;\">\n",
       "      <th></th>\n",
       "      <th>id</th>\n",
       "      <th>audio_id</th>\n",
       "      <th>username</th>\n",
       "      <th>license</th>\n",
       "      <th>attribution_url</th>\n",
       "    </tr>\n",
       "  </thead>\n",
       "  <tbody>\n",
       "    <tr>\n",
       "      <th>0</th>\n",
       "      <td>61</td>\n",
       "      <td>1</td>\n",
       "      <td>fucongcong</td>\n",
       "      <td>NaN</td>\n",
       "      <td>NaN</td>\n",
       "    </tr>\n",
       "    <tr>\n",
       "      <th>1</th>\n",
       "      <td>68</td>\n",
       "      <td>2</td>\n",
       "      <td>fucongcong</td>\n",
       "      <td>NaN</td>\n",
       "      <td>NaN</td>\n",
       "    </tr>\n",
       "    <tr>\n",
       "      <th>2</th>\n",
       "      <td>78</td>\n",
       "      <td>754915</td>\n",
       "      <td>mramosch</td>\n",
       "      <td>NaN</td>\n",
       "      <td>NaN</td>\n",
       "    </tr>\n",
       "  </tbody>\n",
       "</table>\n",
       "</div>"
      ],
      "text/plain": [
       "   id  audio_id    username license attribution_url\n",
       "0  61         1  fucongcong     NaN             NaN\n",
       "1  68         2  fucongcong     NaN             NaN\n",
       "2  78    754915    mramosch     NaN             NaN"
      ]
     },
     "execution_count": 13,
     "metadata": {},
     "output_type": "execute_result"
    }
   ],
   "source": [
    "audio_sen.head(3)"
   ]
  },
  {
   "cell_type": "code",
   "execution_count": 14,
   "metadata": {},
   "outputs": [],
   "source": [
    "# Remove entries for sentences with audio that don't have a license\n",
    "audio_sen = audio_sen[audio_sen['license'].notna()]"
   ]
  },
  {
   "cell_type": "code",
   "execution_count": 15,
   "metadata": {},
   "outputs": [
    {
     "name": "stdout",
     "output_type": "stream",
     "text": [
      "[330998, 331000, 331259, 332331, 334553]\n"
     ]
    }
   ],
   "source": [
    "# Extract id of english sentences as a list\n",
    "id_english = english_sen['id'].values.tolist()\n",
    "print(id_english[:5])"
   ]
  },
  {
   "cell_type": "code",
   "execution_count": 16,
   "metadata": {},
   "outputs": [],
   "source": [
    "# Extract sentences with audio that are in english\n",
    "english_audio_sen = audio_sen[audio_sen['id'].isin(id_english)]"
   ]
  },
  {
   "cell_type": "code",
   "execution_count": 17,
   "metadata": {},
   "outputs": [
    {
     "data": {
      "text/html": [
       "<div>\n",
       "<style scoped>\n",
       "    .dataframe tbody tr th:only-of-type {\n",
       "        vertical-align: middle;\n",
       "    }\n",
       "\n",
       "    .dataframe tbody tr th {\n",
       "        vertical-align: top;\n",
       "    }\n",
       "\n",
       "    .dataframe thead th {\n",
       "        text-align: right;\n",
       "    }\n",
       "</style>\n",
       "<table border=\"1\" class=\"dataframe\">\n",
       "  <thead>\n",
       "    <tr style=\"text-align: right;\">\n",
       "      <th></th>\n",
       "      <th>id</th>\n",
       "      <th>audio_id</th>\n",
       "      <th>username</th>\n",
       "      <th>license</th>\n",
       "      <th>attribution_url</th>\n",
       "    </tr>\n",
       "  </thead>\n",
       "  <tbody>\n",
       "    <tr>\n",
       "      <th>59840</th>\n",
       "      <td>331259</td>\n",
       "      <td>800678</td>\n",
       "      <td>CK</td>\n",
       "      <td>CC BY-NC-ND 3.0</td>\n",
       "      <td>http://www.manythings.org/tatoeba</td>\n",
       "    </tr>\n",
       "    <tr>\n",
       "      <th>61685</th>\n",
       "      <td>334553</td>\n",
       "      <td>27179</td>\n",
       "      <td>CK</td>\n",
       "      <td>CC BY-NC-ND 3.0</td>\n",
       "      <td>http://www.manythings.org/tatoeba</td>\n",
       "    </tr>\n",
       "    <tr>\n",
       "      <th>72813</th>\n",
       "      <td>403859</td>\n",
       "      <td>1123747</td>\n",
       "      <td>Them</td>\n",
       "      <td>CC BY 4.0</td>\n",
       "      <td>NaN</td>\n",
       "    </tr>\n",
       "  </tbody>\n",
       "</table>\n",
       "</div>"
      ],
      "text/plain": [
       "           id  audio_id username          license  \\\n",
       "59840  331259    800678       CK  CC BY-NC-ND 3.0   \n",
       "61685  334553     27179       CK  CC BY-NC-ND 3.0   \n",
       "72813  403859   1123747     Them        CC BY 4.0   \n",
       "\n",
       "                         attribution_url  \n",
       "59840  http://www.manythings.org/tatoeba  \n",
       "61685  http://www.manythings.org/tatoeba  \n",
       "72813                                NaN  "
      ]
     },
     "execution_count": 17,
     "metadata": {},
     "output_type": "execute_result"
    }
   ],
   "source": [
    "english_audio_sen.head(3)"
   ]
  },
  {
   "cell_type": "code",
   "execution_count": 18,
   "metadata": {},
   "outputs": [],
   "source": [
    "# Save file\n",
    "# english_audio_sen.to_csv('datasets/english_audio_sen.csv', index=False)"
   ]
  }
 ],
 "metadata": {
  "kernelspec": {
   "display_name": "env",
   "language": "python",
   "name": "python3"
  },
  "language_info": {
   "codemirror_mode": {
    "name": "ipython",
    "version": 3
   },
   "file_extension": ".py",
   "mimetype": "text/x-python",
   "name": "python",
   "nbconvert_exporter": "python",
   "pygments_lexer": "ipython3",
   "version": "3.9.6"
  }
 },
 "nbformat": 4,
 "nbformat_minor": 2
}
