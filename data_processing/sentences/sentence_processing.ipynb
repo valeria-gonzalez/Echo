{
 "cells": [
  {
   "cell_type": "markdown",
   "metadata": {},
   "source": [
    "# Sentence data preprocessing"
   ]
  },
  {
   "cell_type": "code",
   "execution_count": null,
   "metadata": {},
   "outputs": [],
   "source": [
    "# !pip install pandas"
   ]
  },
  {
   "cell_type": "code",
   "execution_count": 28,
   "metadata": {},
   "outputs": [],
   "source": [
    "import pandas as pd"
   ]
  },
  {
   "cell_type": "markdown",
   "metadata": {},
   "source": [
    "## 1. Select sentences in english that have audio"
   ]
  },
  {
   "cell_type": "markdown",
   "metadata": {},
   "source": [
    "This section of data preprocessing will focus on selecting english sentences that have an existing audio file."
   ]
  },
  {
   "cell_type": "code",
   "execution_count": 29,
   "metadata": {},
   "outputs": [],
   "source": [
    "# Read sentences in english\n",
    "english_sen = pd.read_csv('datasets/eng_sentences_CC0.tsv', \n",
    "                          sep='\\t',\n",
    "                          names=['id', 'lang', 'text', 'date_last_modified'])\n",
    "\n",
    "# Read sentences in all languages with audio\n",
    "audio_sen = pd.read_csv('datasets/sentences_with_audio.csv', \n",
    "                        sep='\\t',\n",
    "                        names = ['id', 'audio_id', 'username', 'license', 'attribution_url'])"
   ]
  },
  {
   "cell_type": "code",
   "execution_count": 30,
   "metadata": {},
   "outputs": [
    {
     "data": {
      "text/html": [
       "<div>\n",
       "<style scoped>\n",
       "    .dataframe tbody tr th:only-of-type {\n",
       "        vertical-align: middle;\n",
       "    }\n",
       "\n",
       "    .dataframe tbody tr th {\n",
       "        vertical-align: top;\n",
       "    }\n",
       "\n",
       "    .dataframe thead th {\n",
       "        text-align: right;\n",
       "    }\n",
       "</style>\n",
       "<table border=\"1\" class=\"dataframe\">\n",
       "  <thead>\n",
       "    <tr style=\"text-align: right;\">\n",
       "      <th></th>\n",
       "      <th>id</th>\n",
       "      <th>lang</th>\n",
       "      <th>text</th>\n",
       "      <th>date_last_modified</th>\n",
       "    </tr>\n",
       "  </thead>\n",
       "  <tbody>\n",
       "    <tr>\n",
       "      <th>0</th>\n",
       "      <td>330998</td>\n",
       "      <td>eng</td>\n",
       "      <td>Children who spend more time outdoors have a l...</td>\n",
       "      <td>2019-01-12 19:39:42</td>\n",
       "    </tr>\n",
       "    <tr>\n",
       "      <th>1</th>\n",
       "      <td>331000</td>\n",
       "      <td>eng</td>\n",
       "      <td>The idea that reading makes you short-sighted ...</td>\n",
       "      <td>2019-01-12 19:39:42</td>\n",
       "    </tr>\n",
       "    <tr>\n",
       "      <th>2</th>\n",
       "      <td>331259</td>\n",
       "      <td>eng</td>\n",
       "      <td>Most people think computers will never be able...</td>\n",
       "      <td>2019-01-12 19:39:42</td>\n",
       "    </tr>\n",
       "  </tbody>\n",
       "</table>\n",
       "</div>"
      ],
      "text/plain": [
       "       id lang                                               text  \\\n",
       "0  330998  eng  Children who spend more time outdoors have a l...   \n",
       "1  331000  eng  The idea that reading makes you short-sighted ...   \n",
       "2  331259  eng  Most people think computers will never be able...   \n",
       "\n",
       "    date_last_modified  \n",
       "0  2019-01-12 19:39:42  \n",
       "1  2019-01-12 19:39:42  \n",
       "2  2019-01-12 19:39:42  "
      ]
     },
     "execution_count": 30,
     "metadata": {},
     "output_type": "execute_result"
    }
   ],
   "source": [
    "english_sen.head(3)"
   ]
  },
  {
   "cell_type": "code",
   "execution_count": 31,
   "metadata": {},
   "outputs": [
    {
     "data": {
      "text/html": [
       "<div>\n",
       "<style scoped>\n",
       "    .dataframe tbody tr th:only-of-type {\n",
       "        vertical-align: middle;\n",
       "    }\n",
       "\n",
       "    .dataframe tbody tr th {\n",
       "        vertical-align: top;\n",
       "    }\n",
       "\n",
       "    .dataframe thead th {\n",
       "        text-align: right;\n",
       "    }\n",
       "</style>\n",
       "<table border=\"1\" class=\"dataframe\">\n",
       "  <thead>\n",
       "    <tr style=\"text-align: right;\">\n",
       "      <th></th>\n",
       "      <th>id</th>\n",
       "      <th>audio_id</th>\n",
       "      <th>username</th>\n",
       "      <th>license</th>\n",
       "      <th>attribution_url</th>\n",
       "    </tr>\n",
       "  </thead>\n",
       "  <tbody>\n",
       "    <tr>\n",
       "      <th>0</th>\n",
       "      <td>61</td>\n",
       "      <td>1</td>\n",
       "      <td>fucongcong</td>\n",
       "      <td>NaN</td>\n",
       "      <td>NaN</td>\n",
       "    </tr>\n",
       "    <tr>\n",
       "      <th>1</th>\n",
       "      <td>68</td>\n",
       "      <td>2</td>\n",
       "      <td>fucongcong</td>\n",
       "      <td>NaN</td>\n",
       "      <td>NaN</td>\n",
       "    </tr>\n",
       "    <tr>\n",
       "      <th>2</th>\n",
       "      <td>78</td>\n",
       "      <td>754915</td>\n",
       "      <td>mramosch</td>\n",
       "      <td>NaN</td>\n",
       "      <td>NaN</td>\n",
       "    </tr>\n",
       "  </tbody>\n",
       "</table>\n",
       "</div>"
      ],
      "text/plain": [
       "   id  audio_id    username license attribution_url\n",
       "0  61         1  fucongcong     NaN             NaN\n",
       "1  68         2  fucongcong     NaN             NaN\n",
       "2  78    754915    mramosch     NaN             NaN"
      ]
     },
     "execution_count": 31,
     "metadata": {},
     "output_type": "execute_result"
    }
   ],
   "source": [
    "audio_sen.head(3)"
   ]
  },
  {
   "cell_type": "code",
   "execution_count": 32,
   "metadata": {},
   "outputs": [],
   "source": [
    "# Remove entries for sentences with audio that don't have a license\n",
    "audio_sen = audio_sen[audio_sen['license'].notna()]"
   ]
  },
  {
   "cell_type": "code",
   "execution_count": 33,
   "metadata": {},
   "outputs": [
    {
     "name": "stdout",
     "output_type": "stream",
     "text": [
      "[330998, 331000, 331259, 332331, 334553]\n"
     ]
    }
   ],
   "source": [
    "# Extract id of english sentences as a list\n",
    "id_english = english_sen['id'].values.tolist()\n",
    "print(id_english[:5])"
   ]
  },
  {
   "cell_type": "code",
   "execution_count": 34,
   "metadata": {},
   "outputs": [],
   "source": [
    "# Extract sentences with audio that are in english\n",
    "eng_audio_sen = audio_sen[audio_sen['id'].isin(id_english)]"
   ]
  },
  {
   "cell_type": "code",
   "execution_count": 35,
   "metadata": {},
   "outputs": [
    {
     "data": {
      "text/html": [
       "<div>\n",
       "<style scoped>\n",
       "    .dataframe tbody tr th:only-of-type {\n",
       "        vertical-align: middle;\n",
       "    }\n",
       "\n",
       "    .dataframe tbody tr th {\n",
       "        vertical-align: top;\n",
       "    }\n",
       "\n",
       "    .dataframe thead th {\n",
       "        text-align: right;\n",
       "    }\n",
       "</style>\n",
       "<table border=\"1\" class=\"dataframe\">\n",
       "  <thead>\n",
       "    <tr style=\"text-align: right;\">\n",
       "      <th></th>\n",
       "      <th>id</th>\n",
       "      <th>audio_id</th>\n",
       "      <th>username</th>\n",
       "      <th>license</th>\n",
       "      <th>attribution_url</th>\n",
       "    </tr>\n",
       "  </thead>\n",
       "  <tbody>\n",
       "    <tr>\n",
       "      <th>59840</th>\n",
       "      <td>331259</td>\n",
       "      <td>800678</td>\n",
       "      <td>CK</td>\n",
       "      <td>CC BY-NC-ND 3.0</td>\n",
       "      <td>http://www.manythings.org/tatoeba</td>\n",
       "    </tr>\n",
       "    <tr>\n",
       "      <th>61685</th>\n",
       "      <td>334553</td>\n",
       "      <td>27179</td>\n",
       "      <td>CK</td>\n",
       "      <td>CC BY-NC-ND 3.0</td>\n",
       "      <td>http://www.manythings.org/tatoeba</td>\n",
       "    </tr>\n",
       "    <tr>\n",
       "      <th>72813</th>\n",
       "      <td>403859</td>\n",
       "      <td>1123747</td>\n",
       "      <td>Them</td>\n",
       "      <td>CC BY 4.0</td>\n",
       "      <td>NaN</td>\n",
       "    </tr>\n",
       "  </tbody>\n",
       "</table>\n",
       "</div>"
      ],
      "text/plain": [
       "           id  audio_id username          license  \\\n",
       "59840  331259    800678       CK  CC BY-NC-ND 3.0   \n",
       "61685  334553     27179       CK  CC BY-NC-ND 3.0   \n",
       "72813  403859   1123747     Them        CC BY 4.0   \n",
       "\n",
       "                         attribution_url  \n",
       "59840  http://www.manythings.org/tatoeba  \n",
       "61685  http://www.manythings.org/tatoeba  \n",
       "72813                                NaN  "
      ]
     },
     "execution_count": 35,
     "metadata": {},
     "output_type": "execute_result"
    }
   ],
   "source": [
    "eng_audio_sen.head(3)"
   ]
  },
  {
   "cell_type": "markdown",
   "metadata": {},
   "source": [
    "## 2. Find spanish translations of english sentences"
   ]
  },
  {
   "cell_type": "markdown",
   "metadata": {},
   "source": [
    "Once only the english sentences with valid audio files have been selected, the goal of this step will be to filter the file with english sentences and their spanish translations, with the sentences that have audio files. "
   ]
  },
  {
   "cell_type": "code",
   "execution_count": 36,
   "metadata": {},
   "outputs": [],
   "source": [
    "# Read all english sentences with spanish translations\n",
    "filename = 'Sentence pairs in English-Spanish.tsv'\n",
    "engspa_trans = pd.read_csv(f'datasets/{filename}',\n",
    "                           sep='\\t',\n",
    "                           usecols=range(4),\n",
    "                           names=['eng_id', 'eng_text', 'spa_id', 'spa_text'])"
   ]
  },
  {
   "cell_type": "code",
   "execution_count": 37,
   "metadata": {},
   "outputs": [],
   "source": [
    "# Extract english sentences with audio ids\n",
    "eng_audio_ids = eng_audio_sen['id'].values.tolist()"
   ]
  },
  {
   "cell_type": "code",
   "execution_count": 38,
   "metadata": {},
   "outputs": [],
   "source": [
    "# Select only those translated sentences that also have audio\n",
    "engspa_trans = engspa_trans[engspa_trans['eng_id'].isin(eng_audio_ids)]"
   ]
  },
  {
   "cell_type": "code",
   "execution_count": 39,
   "metadata": {},
   "outputs": [
    {
     "data": {
      "text/html": [
       "<div>\n",
       "<style scoped>\n",
       "    .dataframe tbody tr th:only-of-type {\n",
       "        vertical-align: middle;\n",
       "    }\n",
       "\n",
       "    .dataframe tbody tr th {\n",
       "        vertical-align: top;\n",
       "    }\n",
       "\n",
       "    .dataframe thead th {\n",
       "        text-align: right;\n",
       "    }\n",
       "</style>\n",
       "<table border=\"1\" class=\"dataframe\">\n",
       "  <thead>\n",
       "    <tr style=\"text-align: right;\">\n",
       "      <th></th>\n",
       "      <th>eng_id</th>\n",
       "      <th>eng_text</th>\n",
       "      <th>spa_id</th>\n",
       "      <th>spa_text</th>\n",
       "    </tr>\n",
       "  </thead>\n",
       "  <tbody>\n",
       "    <tr>\n",
       "      <th>60223</th>\n",
       "      <td>403859</td>\n",
       "      <td>If I could rearrange the alphabet, I would put...</td>\n",
       "      <td>690143</td>\n",
       "      <td>Si pudiera reordenar el alfabeto, pondría la T...</td>\n",
       "    </tr>\n",
       "    <tr>\n",
       "      <th>60224</th>\n",
       "      <td>403860</td>\n",
       "      <td>I'm not good at multitasking.</td>\n",
       "      <td>1612871</td>\n",
       "      <td>No soy bueno para hacer varias cosas a la vez.</td>\n",
       "    </tr>\n",
       "    <tr>\n",
       "      <th>60786</th>\n",
       "      <td>414272</td>\n",
       "      <td>Any teacher that can be replaced by a machine ...</td>\n",
       "      <td>627877</td>\n",
       "      <td>Cualquier profesor que pueda ser reemplazado p...</td>\n",
       "    </tr>\n",
       "  </tbody>\n",
       "</table>\n",
       "</div>"
      ],
      "text/plain": [
       "       eng_id                                           eng_text   spa_id  \\\n",
       "60223  403859  If I could rearrange the alphabet, I would put...   690143   \n",
       "60224  403860                      I'm not good at multitasking.  1612871   \n",
       "60786  414272  Any teacher that can be replaced by a machine ...   627877   \n",
       "\n",
       "                                                spa_text  \n",
       "60223  Si pudiera reordenar el alfabeto, pondría la T...  \n",
       "60224     No soy bueno para hacer varias cosas a la vez.  \n",
       "60786  Cualquier profesor que pueda ser reemplazado p...  "
      ]
     },
     "execution_count": 39,
     "metadata": {},
     "output_type": "execute_result"
    }
   ],
   "source": [
    "engspa_trans.head(3)"
   ]
  },
  {
   "cell_type": "code",
   "execution_count": 40,
   "metadata": {},
   "outputs": [],
   "source": [
    "# Drop entries with duplicated english id \n",
    "engspa_trans = engspa_trans[engspa_trans.duplicated('eng_id', keep='first') != True]"
   ]
  },
  {
   "cell_type": "code",
   "execution_count": 41,
   "metadata": {},
   "outputs": [],
   "source": [
    "# Sort the data entries by english sentence id \n",
    "engspa_trans = engspa_trans.sort_values(by='eng_id')"
   ]
  },
  {
   "cell_type": "code",
   "execution_count": 42,
   "metadata": {},
   "outputs": [
    {
     "name": "stdout",
     "output_type": "stream",
     "text": [
      "632\n"
     ]
    }
   ],
   "source": [
    "# Extract ids of valid translated sentences\n",
    "engspa_trans_ids = engspa_trans['eng_id'].values.tolist()\n",
    "print(len(engspa_trans_ids))"
   ]
  },
  {
   "cell_type": "code",
   "execution_count": 43,
   "metadata": {},
   "outputs": [],
   "source": [
    "# Retrieve the audio links of the english sentences with translation\n",
    "engspa_audios = eng_audio_sen[eng_audio_sen['id'].isin(engspa_trans_ids)]"
   ]
  },
  {
   "cell_type": "code",
   "execution_count": 44,
   "metadata": {},
   "outputs": [
    {
     "data": {
      "text/plain": [
       "632"
      ]
     },
     "execution_count": 44,
     "metadata": {},
     "output_type": "execute_result"
    }
   ],
   "source": [
    "# Drop entries with duplicated english id \n",
    "engspa_audios = engspa_audios[engspa_audios.duplicated('id', keep='first') != True]\n",
    "len(engspa_audios)"
   ]
  },
  {
   "cell_type": "code",
   "execution_count": 45,
   "metadata": {},
   "outputs": [],
   "source": [
    "# Sort the entries by english id\n",
    "engspa_audios = engspa_audios.sort_values(by='id')"
   ]
  },
  {
   "cell_type": "code",
   "execution_count": 46,
   "metadata": {},
   "outputs": [],
   "source": [
    "# Create a new dataframe with sentence, translation and audio link\n",
    "data = {\n",
    "    'eng_id': engspa_trans['eng_id'].values,\n",
    "    'eng_sentence': engspa_trans['eng_text'].values,\n",
    "    'spa_id': engspa_trans['spa_id'].values,\n",
    "    'spa_sen': engspa_trans['spa_text'].values,\n",
    "    'audio_id': engspa_audios['audio_id'].values\n",
    "}\n",
    "clean_sentences = pd.DataFrame(data=data)"
   ]
  },
  {
   "cell_type": "code",
   "execution_count": 49,
   "metadata": {},
   "outputs": [
    {
     "data": {
      "text/html": [
       "<div>\n",
       "<style scoped>\n",
       "    .dataframe tbody tr th:only-of-type {\n",
       "        vertical-align: middle;\n",
       "    }\n",
       "\n",
       "    .dataframe tbody tr th {\n",
       "        vertical-align: top;\n",
       "    }\n",
       "\n",
       "    .dataframe thead th {\n",
       "        text-align: right;\n",
       "    }\n",
       "</style>\n",
       "<table border=\"1\" class=\"dataframe\">\n",
       "  <thead>\n",
       "    <tr style=\"text-align: right;\">\n",
       "      <th></th>\n",
       "      <th>eng_id</th>\n",
       "      <th>eng_sentence</th>\n",
       "      <th>spa_id</th>\n",
       "      <th>spa_sen</th>\n",
       "      <th>audio_id</th>\n",
       "    </tr>\n",
       "  </thead>\n",
       "  <tbody>\n",
       "    <tr>\n",
       "      <th>0</th>\n",
       "      <td>403859</td>\n",
       "      <td>If I could rearrange the alphabet, I would put...</td>\n",
       "      <td>690143</td>\n",
       "      <td>Si pudiera reordenar el alfabeto, pondría la T...</td>\n",
       "      <td>1123747</td>\n",
       "    </tr>\n",
       "    <tr>\n",
       "      <th>1</th>\n",
       "      <td>403860</td>\n",
       "      <td>I'm not good at multitasking.</td>\n",
       "      <td>1612871</td>\n",
       "      <td>No soy bueno para hacer varias cosas a la vez.</td>\n",
       "      <td>32210</td>\n",
       "    </tr>\n",
       "    <tr>\n",
       "      <th>2</th>\n",
       "      <td>414272</td>\n",
       "      <td>Any teacher that can be replaced by a machine ...</td>\n",
       "      <td>627877</td>\n",
       "      <td>Cualquier profesor que pueda ser reemplazado p...</td>\n",
       "      <td>911934</td>\n",
       "    </tr>\n",
       "    <tr>\n",
       "      <th>3</th>\n",
       "      <td>618394</td>\n",
       "      <td>No words can express how amazing you are.</td>\n",
       "      <td>1011397</td>\n",
       "      <td>No existen palabras para expresar lo increíble...</td>\n",
       "      <td>906756</td>\n",
       "    </tr>\n",
       "    <tr>\n",
       "      <th>4</th>\n",
       "      <td>618396</td>\n",
       "      <td>It's rare to meet nice people like you.</td>\n",
       "      <td>1011395</td>\n",
       "      <td>Es difícil conocer a gente tan agradable como tú.</td>\n",
       "      <td>906757</td>\n",
       "    </tr>\n",
       "  </tbody>\n",
       "</table>\n",
       "</div>"
      ],
      "text/plain": [
       "   eng_id                                       eng_sentence   spa_id  \\\n",
       "0  403859  If I could rearrange the alphabet, I would put...   690143   \n",
       "1  403860                      I'm not good at multitasking.  1612871   \n",
       "2  414272  Any teacher that can be replaced by a machine ...   627877   \n",
       "3  618394          No words can express how amazing you are.  1011397   \n",
       "4  618396            It's rare to meet nice people like you.  1011395   \n",
       "\n",
       "                                             spa_sen  audio_id  \n",
       "0  Si pudiera reordenar el alfabeto, pondría la T...   1123747  \n",
       "1     No soy bueno para hacer varias cosas a la vez.     32210  \n",
       "2  Cualquier profesor que pueda ser reemplazado p...    911934  \n",
       "3  No existen palabras para expresar lo increíble...    906756  \n",
       "4  Es difícil conocer a gente tan agradable como tú.    906757  "
      ]
     },
     "execution_count": 49,
     "metadata": {},
     "output_type": "execute_result"
    }
   ],
   "source": [
    "clean_sentences.head()"
   ]
  },
  {
   "cell_type": "code",
   "execution_count": 48,
   "metadata": {},
   "outputs": [],
   "source": [
    "# Save final file\n",
    "clean_sentences.to_csv('datasets/eng_spa_audio_sentences.csv', index=False)"
   ]
  }
 ],
 "metadata": {
  "kernelspec": {
   "display_name": "env",
   "language": "python",
   "name": "python3"
  },
  "language_info": {
   "codemirror_mode": {
    "name": "ipython",
    "version": 3
   },
   "file_extension": ".py",
   "mimetype": "text/x-python",
   "name": "python",
   "nbconvert_exporter": "python",
   "pygments_lexer": "ipython3",
   "version": "3.9.6"
  }
 },
 "nbformat": 4,
 "nbformat_minor": 2
}
