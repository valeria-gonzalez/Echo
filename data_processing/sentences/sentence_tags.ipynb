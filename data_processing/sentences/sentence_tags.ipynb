{
 "cells": [
  {
   "cell_type": "markdown",
   "metadata": {},
   "source": [
    "# Data processing"
   ]
  },
  {
   "cell_type": "code",
   "execution_count": 1,
   "metadata": {},
   "outputs": [],
   "source": [
    "import pandas as pd"
   ]
  },
  {
   "cell_type": "code",
   "execution_count": null,
   "metadata": {},
   "outputs": [],
   "source": [
    "# Read tags for sentences\n",
    "tags = pd.read_csv('datasets/tags.csv',\n",
    "                   sep='\\t',\n",
    "                   names=['sentence_id', 'tag_name'])"
   ]
  },
  {
   "cell_type": "code",
   "execution_count": null,
   "metadata": {},
   "outputs": [],
   "source": [
    "# Read valid english sentences\n",
    "sentences = pd.read_csv('datasets/eng_spa_audio_sentences.csv')"
   ]
  },
  {
   "cell_type": "code",
   "execution_count": null,
   "metadata": {},
   "outputs": [
    {
     "name": "stdout",
     "output_type": "stream",
     "text": [
      "[403859, 403860, 414272, 618394, 618396]\n"
     ]
    }
   ],
   "source": [
    "# Obtain ids of valid english sentences\n",
    "sentence_ids = sentences['eng_id'].values.tolist()\n",
    "print(sentence_ids[:5])"
   ]
  },
  {
   "cell_type": "code",
   "execution_count": null,
   "metadata": {},
   "outputs": [],
   "source": [
    "# Filter tags with only valid english sentences\n",
    "tags = tags[tags['sentence_id'].isin(sentence_ids)]"
   ]
  },
  {
   "cell_type": "code",
   "execution_count": null,
   "metadata": {},
   "outputs": [],
   "source": [
    "# Group all entries that have the same sentence id and join the tags with commas\n",
    "sentence_tags = tags.groupby('sentence_id', as_index=False).agg({\n",
    "    'tag_name': ', '.join\n",
    "})"
   ]
  },
  {
   "cell_type": "code",
   "execution_count": null,
   "metadata": {},
   "outputs": [],
   "source": [
    "# sentence_tags.to_csv('datasets/sentence_tags.csv')"
   ]
  }
 ],
 "metadata": {
  "kernelspec": {
   "display_name": "env",
   "language": "python",
   "name": "python3"
  },
  "language_info": {
   "codemirror_mode": {
    "name": "ipython",
    "version": 3
   },
   "file_extension": ".py",
   "mimetype": "text/x-python",
   "name": "python",
   "nbconvert_exporter": "python",
   "pygments_lexer": "ipython3",
   "version": "3.9.6"
  }
 },
 "nbformat": 4,
 "nbformat_minor": 2
}
