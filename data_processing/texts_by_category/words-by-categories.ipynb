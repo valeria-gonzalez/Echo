{
 "cells": [
  {
   "cell_type": "code",
   "execution_count": null,
   "id": "81bf7077",
   "metadata": {},
   "outputs": [],
   "source": [
    "from TextCategoryEvaluator import TextCategoryEvaluator\n",
    "import json\n",
    "\n",
    "evaluator = TextCategoryEvaluator()"
   ]
  },
  {
   "cell_type": "code",
   "execution_count": null,
   "id": "167962fa",
   "metadata": {},
   "outputs": [],
   "source": [
    "def definitions_to_string(jsonl_data:str, evaluator) -> None:\n",
    "    \"\"\" This function reads a JSONL file, extracts the definitions of words,\n",
    "    and classifies the words into categories using the definitions with\n",
    "    the class TextCategoryEvaluator.\n",
    "\n",
    "    Args:\n",
    "        jsonl_data (str): The path to the JSONL file containing word \n",
    "        definitions.\n",
    "        evaluator (_type_): An instance of the TextCategoryEvaluator class \n",
    "        used for classifying the words.\n",
    "    \"\"\"    \n",
    "    # A dictionary to store the classified words\n",
    "    word_categories = {}\n",
    "\n",
    "    text = \"\"\n",
    "    with open(jsonl_data, \"r\",\n",
    "        encoding=\"utf-8\") as file:\n",
    "        for line in file:\n",
    "            word_entry = json.loads(line)\n",
    "            for word, word_data in word_entry.items():\n",
    "                all_texts = []\n",
    "                text = \" \"\n",
    "                # Extract the word and the value of the \"definitions\" key\n",
    "                definitions = word_data.get(\"definitions\", [])\n",
    "\n",
    "                # Extract all the text values from the \"definitions\" key\n",
    "                definition_texts = definitions[0].get(\"definitions\", [])\n",
    "\n",
    "                # Join both lists into a one list\n",
    "                all_texts.extend(definition_texts)\n",
    "\n",
    "                # Join all the texts into a single string\n",
    "                text = \" \".join(all_texts)\n",
    "                # Calling the classify_words function to classify the word\n",
    "                categories = evaluator.classify_words(text)\n",
    "                word_categories[word] = categories\n",
    "\n",
    "\n",
    "        for word, categories in word_categories.items():\n",
    "            print(f\"{word}:\")\n",
    "            for category, score in categories.items():\n",
    "                print(f\"{word}: {category} ({score:.2%})\")"
   ]
  },
  {
   "cell_type": "code",
   "execution_count": null,
   "id": "87712099",
   "metadata": {},
   "outputs": [],
   "source": [
    "jsonl_data = \"words-de02e1507605431abd5d829d7e868af5.jsonl\"\n",
    "definitions_to_string(jsonl_data, evaluator)"
   ]
  }
 ],
 "metadata": {
  "kernelspec": {
   "display_name": ".venv",
   "language": "python",
   "name": "python3"
  },
  "language_info": {
   "codemirror_mode": {
    "name": "ipython",
    "version": 3
   },
   "file_extension": ".py",
   "mimetype": "text/x-python",
   "name": "python",
   "nbconvert_exporter": "python",
   "pygments_lexer": "ipython3",
   "version": "3.12.7"
  }
 },
 "nbformat": 4,
 "nbformat_minor": 5
}
