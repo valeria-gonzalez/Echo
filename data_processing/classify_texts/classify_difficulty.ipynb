{
 "cells": [
  {
   "cell_type": "markdown",
   "id": "d22bb7f3",
   "metadata": {},
   "source": [
    "# Classify texts by difficulty"
   ]
  },
  {
   "cell_type": "code",
   "execution_count": null,
   "id": "91c97321",
   "metadata": {},
   "outputs": [],
   "source": [
    "# !pip install textstat\n",
    "# !pip install wordfreq\n",
    "# !pip3 install big-phoney\n",
    "# !pip install pron-difficulty\n",
    "# !pip install sklearn for pron diff\n"
   ]
  },
  {
   "cell_type": "markdown",
   "id": "84ae75ad",
   "metadata": {},
   "source": [
    "https://pypi.org/project/textstat/\n",
    "https://pypi.org/project/wordfreq/\n",
    "https://github.com/federicotorrielli/pron-difficulty\n",
    "https://github.com/repp/big-phoney"
   ]
  },
  {
   "cell_type": "code",
   "execution_count": 149,
   "id": "7cada381",
   "metadata": {},
   "outputs": [],
   "source": [
    "import textstat\n",
    "from wordfreq import zipf_frequency\n",
    "import pandas as pd\n",
    "from big_phoney import BigPhoney"
   ]
  },
  {
   "cell_type": "markdown",
   "id": "1966185d",
   "metadata": {},
   "source": [
    "## Classify words"
   ]
  },
  {
   "cell_type": "code",
   "execution_count": 281,
   "id": "84c2a53f",
   "metadata": {},
   "outputs": [],
   "source": [
    "class TextDifficultyEvaluator:\n",
    "    def __init__(self):\n",
    "        \"\"\" Initialize the TextDifficultyEvaluator with predefined thresholds,\n",
    "        weights, and tools for evaluating word and text complexity.\"\"\"\n",
    "        \n",
    "        # Threshold constants per word \n",
    "        self.MAX_FREQ = 8\n",
    "        self.MAX_PHONEMES = 15\n",
    "        self.MAX_SYLL_WORD = 6  \n",
    "        \n",
    "        # Threshold constants per sentence \n",
    "        self.MAX_WORDS = 15\n",
    "        self.MAX_GRADE = 9\n",
    "        self.MAX_SYLL_SEN = 15 \n",
    "\n",
    "        # Evaluation weights for words\n",
    "        self.FREQ_WEIGHT = 0.2\n",
    "        self.PHONEME_WEIGHT = 0.3\n",
    "        self.SYLL_WORD_WEIGHT = 0.5\n",
    "        \n",
    "        # Evaluation weights for words\n",
    "        self.GRADE_WEIGHT = 0.25\n",
    "        self.WORD_WEIGHT = 0.5\n",
    "        self.SYLL_SEN_WEIGHT = 0.25\n",
    "        \n",
    "        # Scale for difficulty\n",
    "        self.DIFFICULTY_SCALE = 2\n",
    "        \n",
    "        # Object to extract phonemes\n",
    "        self.phoney = BigPhoney()\n",
    "        \n",
    "    def count_words(self, str:str)->int:\n",
    "        \"\"\"Count words in a string using texstat module.\n",
    "\n",
    "        Args:\n",
    "            str (str): A string containing one or more words.\n",
    "\n",
    "        Returns:\n",
    "            int: Number of words in a string.\n",
    "        \"\"\"\n",
    "        return textstat.lexicon_count(str, removepunct=True)\n",
    "    \n",
    "    def count_syllables(self, str:str)->int:\n",
    "        \"\"\"Count syllables in a string using Big Phoney module.\n",
    "\n",
    "        Args:\n",
    "            str (str): A string containing one or more words.\n",
    "\n",
    "        Returns:\n",
    "            int: Number of syllables in a string.\n",
    "        \"\"\"\n",
    "        return self.phoney.count_syllables(str)\n",
    "    \n",
    "    def difficulty_threshold(self, thresholds:dict, value:int)->int:\n",
    "        \"\"\"Return the class according to the difficulty threshold.\n",
    "\n",
    "        Args:\n",
    "            thresholds (dict): Dictionary of {threshold : class} key-values.\n",
    "            value (int): Value to evaluate against threshold.\n",
    "\n",
    "        Returns:\n",
    "            int: Class corresponding to threshold.\n",
    "        \"\"\"\n",
    "        for threshold in thresholds.keys():\n",
    "            if value < threshold:\n",
    "                return thresholds[threshold]\n",
    "        \n",
    "        \n",
    "        \n",
    "    def word_difficulty(self, word:str)->int:\n",
    "        \"\"\"Classify english words by difficulty based on frequency, syllable \n",
    "        count and phoneme count on a cateogrical scale from 0 to 2 \n",
    "        (0 - Easy, 1 - Medium, 2 - Hard).\n",
    "\n",
    "        Args:\n",
    "            word (str): Word to classify.\n",
    "\n",
    "        Returns:\n",
    "            int: Difficulty of the word.\n",
    "        \"\"\"\n",
    "        \n",
    "        phonemes = self.phoney.phonize(word)\n",
    "        phoneme_count = self.count_words(phonemes)\n",
    "        syllable_count = self.count_syllables(word)\n",
    "        frequency = zipf_frequency(word, lang=\"en\")\n",
    "        \n",
    "        # Normalize values between [0,1]\n",
    "        freq_score = 1 - (frequency / self.MAX_FREQ) \n",
    "        phoneme_score = min(phoneme_count / self.MAX_PHONEMES, 1)\n",
    "        syllable_score = min(syllable_count / self.MAX_SYLL_WORD, 1)\n",
    "\n",
    "        # Calculate difficulty with weighted sum\n",
    "        difficulty = (\n",
    "            self.FREQ_WEIGHT * freq_score +\n",
    "            self.PHONEME_WEIGHT * phoneme_score +\n",
    "            self.SYLL_WORD_WEIGHT * syllable_score\n",
    "        )\n",
    "\n",
    "        difficulty = min(difficulty, 1.0)\n",
    "        \n",
    "        # Obtain final difficulty\n",
    "        thresholds = { 0.45 : 0, 0.64: 1, 1:2 }\n",
    "        return self.difficulty_threshold(thresholds, difficulty)\n",
    "        \n",
    "    def sentence_difficulty(self, sentence:str)->int:\n",
    "        \"\"\"Classify english sentences by difficulty based on grade level \n",
    "        comprehension, word count and syllable count on a cateogrical scale \n",
    "        from 0 to 2 (0 - Easy, 1 - Medium, 2 - Hard).\n",
    "\n",
    "        Args:\n",
    "            sentence (str): Sentence to classify.\n",
    "\n",
    "        Returns:\n",
    "            int: Difficulty of the sentence.\n",
    "        \"\"\"\n",
    "        grade_level = max(textstat.text_standard(sentence, float_output=True),1.0)\n",
    "        word_count = self.count_words(sentence)\n",
    "        syllable_count = self.count_syllables(sentence)\n",
    "        \n",
    "        # Normalize values between [0,1]\n",
    "        grade_score = min(grade_level / self.MAX_GRADE, 1) \n",
    "        word_score = min(word_count / self.MAX_WORDS, 1)\n",
    "        syllable_score = min(syllable_count / self.MAX_SYLL_SEN, 1)\n",
    "        \n",
    "        # Calculate difficulty with weighted sum\n",
    "        difficulty = (\n",
    "            self.GRADE_WEIGHT * grade_score +\n",
    "            self.WORD_WEIGHT * word_score +\n",
    "            self.SYLL_SEN_WEIGHT * syllable_score\n",
    "        )\n",
    "        \n",
    "        difficulty = min(difficulty, 1.0)\n",
    "        \n",
    "        # Obtain final difficulty\n",
    "        thresholds = { 0.4 : 0, 0.55: 1, 1:2 }\n",
    "        return self.difficulty_threshold(thresholds, difficulty)\n",
    "        \n",
    "        \n",
    "        "
   ]
  },
  {
   "cell_type": "code",
   "execution_count": 282,
   "id": "267426d9",
   "metadata": {},
   "outputs": [
    {
     "name": "stdout",
     "output_type": "stream",
     "text": [
      "1\n"
     ]
    },
    {
     "name": "stderr",
     "output_type": "stream",
     "text": [
      "/Users/valeriagonzalez/Documents/modular/env/lib/python3.9/site-packages/keras/src/layers/core/embedding.py:90: UserWarning: Argument `input_length` is deprecated. Just remove it.\n",
      "  warnings.warn(\n"
     ]
    }
   ],
   "source": [
    "word = \"courageous\"\n",
    "evaluator = TextDifficultyEvaluator()\n",
    "print(evaluator.word_difficulty(word))"
   ]
  },
  {
   "cell_type": "code",
   "execution_count": 283,
   "id": "c968eac9",
   "metadata": {},
   "outputs": [
    {
     "name": "stdout",
     "output_type": "stream",
     "text": [
      "1\n"
     ]
    }
   ],
   "source": [
    "text = \"Too little salt is better than too much.\"\n",
    "print(evaluator.sentence_difficulty(text))"
   ]
  }
 ],
 "metadata": {
  "kernelspec": {
   "display_name": "env",
   "language": "python",
   "name": "python3"
  },
  "language_info": {
   "codemirror_mode": {
    "name": "ipython",
    "version": 3
   },
   "file_extension": ".py",
   "mimetype": "text/x-python",
   "name": "python",
   "nbconvert_exporter": "python",
   "pygments_lexer": "ipython3",
   "version": "3.9.6"
  }
 },
 "nbformat": 4,
 "nbformat_minor": 5
}
